{
 "cells": [
  {
   "cell_type": "code",
   "execution_count": 1,
   "id": "61a7e643-e21d-4c62-aa12-13e387a931d3",
   "metadata": {},
   "outputs": [],
   "source": [
    "import gzip\n",
    "import numpy as np\n",
    "import matplotlib.pyplot as plt\n",
    "import pandas as pd\n",
    "from sklearn.neighbors import KNeighborsClassifier\n",
    "from sklearn.metrics import confusion_matrix, roc_curve, auc, make_scorer\n",
    "from sklearn.datasets import load_iris\n",
    "from sklearn.preprocessing import MinMaxScaler\n",
    "from sklearn.model_selection import cross_val_score, StratifiedKFold\n",
    "from sklearn.preprocessing import label_binarize"
   ]
  },
  {
   "cell_type": "code",
   "execution_count": 2,
   "id": "535cf12d-e023-4d86-bb11-a3ff8f285d21",
   "metadata": {},
   "outputs": [],
   "source": [
    "def load_fashion_mnist():\n",
    "    \"\"\"\n",
    "    Loads Fashion MNIST dataset.\n",
    "    \n",
    "    Adapted from: https://github.com/zalandoresearch/fashion-mnist/blob/master/utils/mnist_reader.py\n",
    "    \"\"\"\n",
    "    TRAIN_IMAGES = 'train-images-idx3-ubyte.gz'\n",
    "    TRAIN_LABELS = 'train-labels-idx1-ubyte.gz'    \n",
    "    TEST_IMAGES = 't10k-images-idx3-ubyte.gz'\n",
    "    TEST_LABELS = 't10k-labels-idx1-ubyte.gz'\n",
    "\n",
    "    with gzip.open(TRAIN_LABELS, 'rb') as tr_labels_file, gzip.open(TEST_LABELS, 'rb') as ts_labels_file:\n",
    "        train_labels = np.frombuffer(tr_labels_file.read(), dtype=np.uint8, offset=8)\n",
    "        test_labels = np.frombuffer(ts_labels_file.read(), dtype=np.uint8, offset=8)\n",
    "\n",
    "    with gzip.open(TRAIN_IMAGES, 'rb') as tr_images_file, gzip.open(TEST_IMAGES, 'rb') as ts_images_file:\n",
    "        train_images = np.frombuffer(tr_images_file.read(), dtype=np.uint8, offset=16).reshape(len(train_labels), 784)\n",
    "        test_images = np.frombuffer(ts_images_file.read(), dtype=np.uint8, offset=16).reshape(len(test_labels), 784)\n",
    "\n",
    "    return train_images, train_labels, test_images, test_labels\n",
    "\n",
    "train_images, train_labels, test_images, test_labels = load_fashion_mnist()"
   ]
  },
  {
   "cell_type": "code",
   "execution_count": 3,
   "id": "dcdd555a-322c-437c-8ae0-06889346f746",
   "metadata": {},
   "outputs": [
    {
     "data": {
      "text/plain": [
       "array([9, 0, 0, ..., 3, 0, 5], dtype=uint8)"
      ]
     },
     "execution_count": 3,
     "metadata": {},
     "output_type": "execute_result"
    }
   ],
   "source": [
    "y = train_labels\n",
    "#y = pd.DataFrame(train_labels, columns = ['labels'])\n",
    "y"
   ]
  },
  {
   "cell_type": "code",
   "execution_count": 4,
   "id": "ef6d4b3d-7f57-435c-9991-f9bdcf8654e4",
   "metadata": {},
   "outputs": [],
   "source": [
    "y = label_binarize(y, classes=[0, 1, 2, 3, 4,5,6,7,8, 9])"
   ]
  },
  {
   "cell_type": "code",
   "execution_count": 5,
   "id": "a458af21-e8d3-4d80-9749-c228877aec62",
   "metadata": {},
   "outputs": [],
   "source": [
    "# bar graph of all the labels\n",
    "# ax = y.value_counts().plot(kind = 'bar', figsize=(14,10), title=\"Stage of cancer type composition\", fontsize=20)\n",
    "# ax.set_xlabel(\"Types of cancer\", fontsize=20)\n",
    "# ax.set_ylabel(\"Total amount\", fontsize=20)\n",
    "# ax.bar_label(ax.containers[0], fontsize=20)"
   ]
  },
  {
   "cell_type": "code",
   "execution_count": 6,
   "id": "6de0695e-cd3f-4507-a5f8-91e740bd10f7",
   "metadata": {},
   "outputs": [],
   "source": [
    "# rescaling features using min-max scaling\n",
    "scaler = MinMaxScaler()\n",
    "X = scaler.fit_transform(train_images)\n",
    "#train_scaled is X\n",
    "test_scaled = scaler.fit_transform(test_images)"
   ]
  },
  {
   "cell_type": "code",
   "execution_count": 7,
   "id": "0e227636-166f-4af7-a850-ccee3a68ce5e",
   "metadata": {},
   "outputs": [
    {
     "data": {
      "text/plain": [
       "(60000, 784)"
      ]
     },
     "execution_count": 7,
     "metadata": {},
     "output_type": "execute_result"
    }
   ],
   "source": [
    "X.shape"
   ]
  },
  {
   "cell_type": "code",
   "execution_count": 8,
   "id": "42de0eb6-b413-4a4f-95b6-cd48e33153b0",
   "metadata": {},
   "outputs": [
    {
     "name": "stdout",
     "output_type": "stream",
     "text": [
      "[[0 0 0 ... 0 0 1]\n",
      " [1 0 0 ... 0 0 0]\n",
      " [1 0 0 ... 0 0 0]\n",
      " ...\n",
      " [0 0 0 ... 0 0 0]\n",
      " [0 0 0 ... 0 0 0]\n",
      " [0 0 0 ... 0 0 0]]\n"
     ]
    }
   ],
   "source": [
    "small_y = y[:7000]\n",
    "small_X = X[:7000,:]\n",
    "small_y.shape\n",
    "print(small_y)"
   ]
  },
  {
   "cell_type": "code",
   "execution_count": 9,
   "id": "c2251d97-7372-4440-8eb2-38152387389e",
   "metadata": {},
   "outputs": [
    {
     "data": {
      "text/html": [
       "<style>#sk-container-id-1 {color: black;background-color: white;}#sk-container-id-1 pre{padding: 0;}#sk-container-id-1 div.sk-toggleable {background-color: white;}#sk-container-id-1 label.sk-toggleable__label {cursor: pointer;display: block;width: 100%;margin-bottom: 0;padding: 0.3em;box-sizing: border-box;text-align: center;}#sk-container-id-1 label.sk-toggleable__label-arrow:before {content: \"▸\";float: left;margin-right: 0.25em;color: #696969;}#sk-container-id-1 label.sk-toggleable__label-arrow:hover:before {color: black;}#sk-container-id-1 div.sk-estimator:hover label.sk-toggleable__label-arrow:before {color: black;}#sk-container-id-1 div.sk-toggleable__content {max-height: 0;max-width: 0;overflow: hidden;text-align: left;background-color: #f0f8ff;}#sk-container-id-1 div.sk-toggleable__content pre {margin: 0.2em;color: black;border-radius: 0.25em;background-color: #f0f8ff;}#sk-container-id-1 input.sk-toggleable__control:checked~div.sk-toggleable__content {max-height: 200px;max-width: 100%;overflow: auto;}#sk-container-id-1 input.sk-toggleable__control:checked~label.sk-toggleable__label-arrow:before {content: \"▾\";}#sk-container-id-1 div.sk-estimator input.sk-toggleable__control:checked~label.sk-toggleable__label {background-color: #d4ebff;}#sk-container-id-1 div.sk-label input.sk-toggleable__control:checked~label.sk-toggleable__label {background-color: #d4ebff;}#sk-container-id-1 input.sk-hidden--visually {border: 0;clip: rect(1px 1px 1px 1px);clip: rect(1px, 1px, 1px, 1px);height: 1px;margin: -1px;overflow: hidden;padding: 0;position: absolute;width: 1px;}#sk-container-id-1 div.sk-estimator {font-family: monospace;background-color: #f0f8ff;border: 1px dotted black;border-radius: 0.25em;box-sizing: border-box;margin-bottom: 0.5em;}#sk-container-id-1 div.sk-estimator:hover {background-color: #d4ebff;}#sk-container-id-1 div.sk-parallel-item::after {content: \"\";width: 100%;border-bottom: 1px solid gray;flex-grow: 1;}#sk-container-id-1 div.sk-label:hover label.sk-toggleable__label {background-color: #d4ebff;}#sk-container-id-1 div.sk-serial::before {content: \"\";position: absolute;border-left: 1px solid gray;box-sizing: border-box;top: 0;bottom: 0;left: 50%;z-index: 0;}#sk-container-id-1 div.sk-serial {display: flex;flex-direction: column;align-items: center;background-color: white;padding-right: 0.2em;padding-left: 0.2em;position: relative;}#sk-container-id-1 div.sk-item {position: relative;z-index: 1;}#sk-container-id-1 div.sk-parallel {display: flex;align-items: stretch;justify-content: center;background-color: white;position: relative;}#sk-container-id-1 div.sk-item::before, #sk-container-id-1 div.sk-parallel-item::before {content: \"\";position: absolute;border-left: 1px solid gray;box-sizing: border-box;top: 0;bottom: 0;left: 50%;z-index: -1;}#sk-container-id-1 div.sk-parallel-item {display: flex;flex-direction: column;z-index: 1;position: relative;background-color: white;}#sk-container-id-1 div.sk-parallel-item:first-child::after {align-self: flex-end;width: 50%;}#sk-container-id-1 div.sk-parallel-item:last-child::after {align-self: flex-start;width: 50%;}#sk-container-id-1 div.sk-parallel-item:only-child::after {width: 0;}#sk-container-id-1 div.sk-dashed-wrapped {border: 1px dashed gray;margin: 0 0.4em 0.5em 0.4em;box-sizing: border-box;padding-bottom: 0.4em;background-color: white;}#sk-container-id-1 div.sk-label label {font-family: monospace;font-weight: bold;display: inline-block;line-height: 1.2em;}#sk-container-id-1 div.sk-label-container {text-align: center;}#sk-container-id-1 div.sk-container {/* jupyter's `normalize.less` sets `[hidden] { display: none; }` but bootstrap.min.css set `[hidden] { display: none !important; }` so we also need the `!important` here to be able to override the default hidden behavior on the sphinx rendered scikit-learn.org. See: https://github.com/scikit-learn/scikit-learn/issues/21755 */display: inline-block !important;position: relative;}#sk-container-id-1 div.sk-text-repr-fallback {display: none;}</style><div id=\"sk-container-id-1\" class=\"sk-top-container\"><div class=\"sk-text-repr-fallback\"><pre>KNeighborsClassifier(algorithm=&#x27;kd_tree&#x27;, n_neighbors=3)</pre><b>In a Jupyter environment, please rerun this cell to show the HTML representation or trust the notebook. <br />On GitHub, the HTML representation is unable to render, please try loading this page with nbviewer.org.</b></div><div class=\"sk-container\" hidden><div class=\"sk-item\"><div class=\"sk-estimator sk-toggleable\"><input class=\"sk-toggleable__control sk-hidden--visually\" id=\"sk-estimator-id-1\" type=\"checkbox\" checked><label for=\"sk-estimator-id-1\" class=\"sk-toggleable__label sk-toggleable__label-arrow\">KNeighborsClassifier</label><div class=\"sk-toggleable__content\"><pre>KNeighborsClassifier(algorithm=&#x27;kd_tree&#x27;, n_neighbors=3)</pre></div></div></div></div></div>"
      ],
      "text/plain": [
       "KNeighborsClassifier(algorithm='kd_tree', n_neighbors=3)"
      ]
     },
     "execution_count": 9,
     "metadata": {},
     "output_type": "execute_result"
    }
   ],
   "source": [
    "# finding nearest neighbors using brute force and default n_neighbors & radius\n",
    "# Create a nearest neighbor classifier\n",
    "clf = KNeighborsClassifier(n_neighbors=3, algorithm='kd_tree')\n",
    "clf"
   ]
  },
  {
   "cell_type": "code",
   "execution_count": 10,
   "id": "bea9d3ae-94bb-433d-9f5f-51474bd9ddc2",
   "metadata": {},
   "outputs": [
    {
     "data": {
      "text/plain": [
       "make_scorer(auc, needs_proba=True, multi_class=ovo)"
      ]
     },
     "execution_count": 10,
     "metadata": {},
     "output_type": "execute_result"
    }
   ],
   "source": [
    "# Define a custom scorer based on ROC AUC\n",
    "roc_auc_scorer = make_scorer(auc, greater_is_better=True, needs_proba=True, multi_class=\"ovo\")\n",
    "roc_auc_scorer"
   ]
  },
  {
   "cell_type": "code",
   "execution_count": 11,
   "id": "03867ae2-9339-4f1c-bf27-81e5973bbd7b",
   "metadata": {},
   "outputs": [
    {
     "data": {
      "text/plain": [
       "StratifiedKFold(n_splits=10, random_state=42, shuffle=True)"
      ]
     },
     "execution_count": 11,
     "metadata": {},
     "output_type": "execute_result"
    }
   ],
   "source": [
    "# Define a 10-fold cross-validation strategy\n",
    "cv = StratifiedKFold(n_splits=10, shuffle=True, random_state=42)\n",
    "cv"
   ]
  },
  {
   "cell_type": "code",
   "execution_count": 12,
   "id": "fb621c17-ed24-4a39-8e46-006c2170b6c8",
   "metadata": {},
   "outputs": [
    {
     "data": {
      "text/plain": [
       "array([[614,   1,   4,   6,   0,   0,  23,   0,   4,   0],\n",
       "       [ 13, 729,   1,   8,   1,   0,   2,   0,   0,   0],\n",
       "       [ 41,   0, 583,   1,  46,   0,  37,   1,   1,   0],\n",
       "       [ 51,   2,   2, 639,  16,   0,   9,   0,   0,   0],\n",
       "       [ 40,   0,  45,  10, 546,   0,  30,   0,   0,   0],\n",
       "       [ 23,   0,   0,   0,   0, 612,   0,  38,   1,  25],\n",
       "       [130,   1,  52,   8,  31,   0, 462,   0,   5,   1],\n",
       "       [  1,   0,   0,   0,   0,   0,   0, 670,   0,  34],\n",
       "       [ 19,   0,   7,   0,   1,   0,   2,   4, 656,   3],\n",
       "       [  5,   0,   0,   0,   0,   1,   1,   9,   0, 692]])"
      ]
     },
     "execution_count": 12,
     "metadata": {},
     "output_type": "execute_result"
    }
   ],
   "source": [
    "# Compute the confusion matrix\n",
    "y_pred = clf.fit(small_X, small_y).predict(small_X)\n",
    "cm = confusion_matrix(small_y.argmax(axis=1), y_pred.argmax(axis=1), labels = [0, 1, 2, 3, 4,5,6,7,8,9])\n",
    "cm"
   ]
  },
  {
   "cell_type": "code",
   "execution_count": null,
   "id": "cf52f639-b762-4194-8143-af184f9dc1ae",
   "metadata": {},
   "outputs": [],
   "source": [
    "# Compute the confusion matrix\n",
    "y_pred = clf.fit(X, y).predict(X)\n",
    "cm = confusion_matrix(y.argmax(axis=1), y_pred.argmax(axis=1), labels = [0, 1, 2, 3, 4,5,6,7,8,9])\n",
    "cm"
   ]
  },
  {
   "cell_type": "code",
   "execution_count": null,
   "id": "73c2f05c-4c16-4a68-9471-12b86835341c",
   "metadata": {},
   "outputs": [],
   "source": [
    "clf.predict_proba(small_X)[:, 1]"
   ]
  },
  {
   "cell_type": "code",
   "execution_count": null,
   "id": "2dc0eefc-6122-43da-b16f-00ecdac0ab99",
   "metadata": {
    "tags": []
   },
   "outputs": [],
   "source": [
    "clf.predict_proba(small_X)"
   ]
  },
  {
   "cell_type": "code",
   "execution_count": null,
   "id": "8ca0c3bd-7cf0-42a4-9010-f5ada49ee515",
   "metadata": {},
   "outputs": [],
   "source": [
    "fpr = dict()\n",
    "tpr = dict()\n",
    "roc_auc = dict()\n",
    "urc = dict()\n",
    "for i in range(y.shape[1]):\n",
    "    fpr[i], tpr[i], _ = roc_curve(y[:, i], clf.predict_proba(small_X)[:, i])\n",
    "    urc[i] = 1 - fpr[i]\n",
    "    roc_auc[i] = auc(fpr[i], tpr[i])\n",
    "\n",
    "print(\"ROC AUC score: {:.3f}\".format(np.mean(list(roc_auc.values()))))"
   ]
  },
  {
   "cell_type": "code",
   "execution_count": null,
   "id": "c8862ead-dc10-4c95-9945-d8292a826df5",
   "metadata": {},
   "outputs": [],
   "source": [
    "# Compute the ROC curve and the URC curve\n",
    "fpr, tpr, _ = roc_curve(small_y, y_proba)\n",
    "urc = 1 - fpr\n",
    "\n",
    "print(\"ROC AUC score: {:.3f}\".format(auc(fpr, tpr)))\n",
    "\n",
    "# Plot the ROC curve and the URC curve\n",
    "import matplotlib.pyplot as plt\n",
    "plt.plot(fpr, tpr, label=\"ROC curve\")\n",
    "plt.plot(urc, tpr, label=\"URC curve\")\n",
    "plt.xlabel(\"False Positive Rate (1 - Specificity)\")\n",
    "plt.ylabel(\"True Positive Rate (Sensitivity)\")\n",
    "plt.legend()\n",
    "plt.show()"
   ]
  },
  {
   "cell_type": "code",
   "execution_count": null,
   "id": "61eecc6d-4d68-4497-abbc-03dbb1ffd114",
   "metadata": {
    "tags": []
   },
   "outputs": [],
   "source": [
    "\n",
    "y_pred = clf.fit(X, y).predict(X)\n",
    "cm = confusion_matrix(y, y_pred)\n",
    "print(\"Confusion matrix:\\n\", cm)"
   ]
  },
  {
   "cell_type": "code",
   "execution_count": null,
   "id": "38905b97-af66-409e-876f-e87e30f40daa",
   "metadata": {},
   "outputs": [],
   "source": [
    "# Compute the ROC curve and the URC curve\n",
    "fpr, tpr, _ = roc_curve(y, clf.predict_proba(X)[:, 1])\n",
    "urc = 1 - fpr\n",
    "\n",
    "print(\"ROC AUC score: {:.3f}\".format(auc(fpr, tpr)))\n",
    "\n",
    "# Plot the ROC curve and the URC curve\n",
    "import matplotlib.pyplot as plt\n",
    "plt.plot(fpr, tpr, label=\"ROC curve\")\n",
    "plt.plot(urc, tpr, label=\"URC curve\")\n",
    "plt.xlabel(\"False Positive Rate (1 - Specificity)\")\n",
    "plt.ylabel(\"True Positive Rate (Sensitivity)\")\n",
    "plt.legend()\n",
    "plt.show()"
   ]
  },
  {
   "cell_type": "code",
   "execution_count": null,
   "id": "61e91757-7f47-4248-86a0-b257ae42a940",
   "metadata": {},
   "outputs": [],
   "source": []
  }
 ],
 "metadata": {
  "kernelspec": {
   "display_name": "Python 3.8",
   "language": "python",
   "name": "python3"
  },
  "language_info": {
   "codemirror_mode": {
    "name": "ipython",
    "version": 3
   },
   "file_extension": ".py",
   "mimetype": "text/x-python",
   "name": "python",
   "nbconvert_exporter": "python",
   "pygments_lexer": "ipython3",
   "version": "3.8.6"
  }
 },
 "nbformat": 4,
 "nbformat_minor": 5
}
