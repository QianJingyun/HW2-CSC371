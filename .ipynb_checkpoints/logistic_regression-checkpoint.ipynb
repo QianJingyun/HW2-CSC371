{
 "cells": [
  {
   "cell_type": "code",
   "execution_count": 16,
   "id": "61a7e643-e21d-4c62-aa12-13e387a931d3",
   "metadata": {},
   "outputs": [],
   "source": [
    "import gzip\n",
    "import numpy as np\n",
    "import matplotlib.pyplot as plt\n",
    "from sklearn.linear_model import LogisticRegression\n",
    "from sklearn.metrics import confusion_matrix, roc_curve, auc, make_scorer, accuracy_score\n",
    "from sklearn.preprocessing import MinMaxScaler\n",
    "from sklearn.model_selection import cross_val_score, KFold, cross_val_predict\n",
    "from sklearn.preprocessing import LabelBinarizer\n",
    "from sklearn.feature_selection import SelectKBest\n",
    "from sklearn.feature_selection import f_classif\n",
    "from sklearn.model_selection import GridSearchCV\n",
    "import pandas as pd\n",
    "import time"
   ]
  },
  {
   "cell_type": "code",
   "execution_count": 17,
   "id": "535cf12d-e023-4d86-bb11-a3ff8f285d21",
   "metadata": {},
   "outputs": [],
   "source": [
    "def load_fashion_mnist():\n",
    "    \"\"\"\n",
    "    Loads Fashion MNIST dataset.\n",
    "    \n",
    "    Adapted from: https://github.com/zalandoresearch/fashion-mnist/blob/master/utils/mnist_reader.py\n",
    "    \"\"\"\n",
    "    TRAIN_IMAGES = 'train-images-idx3-ubyte.gz'\n",
    "    TRAIN_LABELS = 'train-labels-idx1-ubyte.gz'    \n",
    "    TEST_IMAGES = 't10k-images-idx3-ubyte.gz'\n",
    "    TEST_LABELS = 't10k-labels-idx1-ubyte.gz'\n",
    "\n",
    "    with gzip.open(TRAIN_LABELS, 'rb') as tr_labels_file, gzip.open(TEST_LABELS, 'rb') as ts_labels_file:\n",
    "        train_labels = np.frombuffer(tr_labels_file.read(), dtype=np.uint8, offset=8)\n",
    "        test_labels = np.frombuffer(ts_labels_file.read(), dtype=np.uint8, offset=8)\n",
    "\n",
    "    with gzip.open(TRAIN_IMAGES, 'rb') as tr_images_file, gzip.open(TEST_IMAGES, 'rb') as ts_images_file:\n",
    "        train_images = np.frombuffer(tr_images_file.read(), dtype=np.uint8, offset=16).reshape(len(train_labels), 784)\n",
    "        test_images = np.frombuffer(ts_images_file.read(), dtype=np.uint8, offset=16).reshape(len(test_labels), 784)\n",
    "\n",
    "    return train_images, train_labels, test_images, test_labels\n",
    "\n",
    "train_images, train_labels, test_images, test_labels = load_fashion_mnist()"
   ]
  },
  {
   "cell_type": "code",
   "execution_count": 18,
   "id": "dcdd555a-322c-437c-8ae0-06889346f746",
   "metadata": {},
   "outputs": [
    {
     "data": {
      "text/plain": [
       "(60000,)"
      ]
     },
     "execution_count": 18,
     "metadata": {},
     "output_type": "execute_result"
    }
   ],
   "source": [
    "y = train_labels\n",
    "y.shape"
   ]
  },
  {
   "cell_type": "code",
   "execution_count": 19,
   "id": "ef6d4b3d-7f57-435c-9991-f9bdcf8654e4",
   "metadata": {},
   "outputs": [
    {
     "data": {
      "text/plain": [
       "(60000, 784)"
      ]
     },
     "execution_count": 19,
     "metadata": {},
     "output_type": "execute_result"
    }
   ],
   "source": [
    "# rescaling features using min-max scaling\n",
    "scaler = MinMaxScaler()\n",
    "X = scaler.fit_transform(train_images)\n",
    "#train_scaled is X\n",
    "test_scaled = scaler.fit_transform(test_images)\n",
    "X.shape"
   ]
  },
  {
   "cell_type": "code",
   "execution_count": 20,
   "id": "a458af21-e8d3-4d80-9749-c228877aec62",
   "metadata": {},
   "outputs": [],
   "source": [
    "small_y = y[:10000]\n",
    "small_X = X[:10000,:]"
   ]
  },
  {
   "cell_type": "code",
   "execution_count": 21,
   "id": "b8b8418b-8577-400e-bbd4-a816bd3f4c8a",
   "metadata": {},
   "outputs": [
    {
     "name": "stdout",
     "output_type": "stream",
     "text": [
      "(10000, 784)\n",
      "(10000,)\n"
     ]
    }
   ],
   "source": [
    "print(small_X.shape)\n",
    "print(small_y.shape)\n",
    "#small_X and X have the same shape\n",
    "#small_y and y have the same shape"
   ]
  },
  {
   "cell_type": "code",
   "execution_count": 22,
   "id": "0735a149-487a-4775-958c-6a7d6be3330a",
   "metadata": {},
   "outputs": [
    {
     "data": {
      "text/plain": [
       "array([[0, 0, 0, ..., 0, 0, 1],\n",
       "       [1, 0, 0, ..., 0, 0, 0],\n",
       "       [1, 0, 0, ..., 0, 0, 0],\n",
       "       ...,\n",
       "       [1, 0, 0, ..., 0, 0, 0],\n",
       "       [0, 0, 0, ..., 0, 0, 0],\n",
       "       [0, 0, 0, ..., 0, 0, 0]])"
      ]
     },
     "execution_count": 22,
     "metadata": {},
     "output_type": "execute_result"
    }
   ],
   "source": [
    "lb = LabelBinarizer()\n",
    "y_binarized = lb.fit_transform(small_y)\n",
    "y_binarized"
   ]
  },
  {
   "cell_type": "code",
   "execution_count": 14,
   "id": "61e91757-7f47-4248-86a0-b257ae42a940",
   "metadata": {},
   "outputs": [],
   "source": [
    "logistic = LogisticRegression(max_iter=10000)"
   ]
  },
  {
   "cell_type": "code",
   "execution_count": null,
   "id": "c431c34f-bdb5-4d5f-bc3c-9d018a1d91fe",
   "metadata": {},
   "outputs": [],
   "source": [
    "start_time = time.time()\n",
    "y_pred_log_base = cross_val_predict(logistic, small_X, small_y, cv=5)\n",
    "accuracy_log_base = accuracy_score(small_y, y_pred_log_base)\n",
    "print(time.time() - start_time)\n",
    "print(accuracy_log_base)"
   ]
  },
  {
   "cell_type": "code",
   "execution_count": null,
   "id": "3c20344f-ca9b-4467-bf48-7235cc402ec6",
   "metadata": {},
   "outputs": [],
   "source": [
    "params_0 = {'C':[0.01], 'penalty': ['l1', 'l2']}\n",
    "\n",
    "grid_logistic_0 = GridSearchCV(logistic, params_0, cv=5, scoring = 'accuracy')\n",
    "grid_logistic_0.fit(small_X, small_y)\n",
    "\n",
    "print(grid_logistic_0.best_params_)\n",
    "print(grid_logistic_0.best_score_)"
   ]
  },
  {
   "cell_type": "code",
   "execution_count": null,
   "id": "7bf9ff03-4c47-43f2-ac81-a06567313d9a",
   "metadata": {},
   "outputs": [],
   "source": [
    "params_1 = {'C':[0.1], 'penalty': ['l1', 'l2']}\n",
    "\n",
    "grid_logistic_1 = GridSearchCV(logistic, params_1, cv=5, scoring = 'accuracy')\n",
    "grid_logistic_1.fit(small_X, small_y)\n",
    "\n",
    "print(grid_logistic_1.best_params_)\n",
    "print(grid_logistic_1.best_score_)"
   ]
  },
  {
   "cell_type": "code",
   "execution_count": null,
   "id": "d11f8953-1308-4113-b445-cb0b7b9c3ae8",
   "metadata": {},
   "outputs": [],
   "source": [
    "params_2 = {'C':[1], 'penalty': ['l1', 'l2']}\n",
    "\n",
    "grid_logistic_2 = GridSearchCV(logistic, params_2, cv=5, scoring = 'accuracy')\n",
    "grid_logistic_2.fit(small_X, small_y)\n",
    "\n",
    "print(grid_logistic_2.best_params_)\n",
    "print(grid_logistic_2.best_score_)"
   ]
  },
  {
   "cell_type": "code",
   "execution_count": null,
   "id": "179a34a7-0ff8-415e-9270-add19247f454",
   "metadata": {},
   "outputs": [],
   "source": [
    "params_3 = {'C':[10], 'penalty': ['l1', 'l2']}\n",
    "\n",
    "grid_logistic_3 = GridSearchCV(logistic, params_3, cv=5, scoring = 'accuracy')\n",
    "grid_logistic_3.fit(small_X, small_y)\n",
    "\n",
    "print(grid_logistic_3.best_params_)\n",
    "print(grid_logistic_3.best_score_)"
   ]
  },
  {
   "cell_type": "code",
   "execution_count": 15,
   "id": "226e794f-6a80-4638-9339-171917b24e96",
   "metadata": {},
   "outputs": [
    {
     "name": "stderr",
     "output_type": "stream",
     "text": [
      "/opt/pub/eb/apps/all/DavidsonJupyter/2021-common-GCCcore-10.2.0/lib/python3.8/site-packages/sklearn/model_selection/_validation.py:378: FitFailedWarning: \n",
      "5 fits failed out of a total of 10.\n",
      "The score on these train-test partitions for these parameters will be set to nan.\n",
      "If these failures are not expected, you can try to debug them by setting error_score='raise'.\n",
      "\n",
      "Below are more details about the failures:\n",
      "--------------------------------------------------------------------------------\n",
      "5 fits failed with the following error:\n",
      "Traceback (most recent call last):\n",
      "  File \"/opt/pub/eb/apps/all/DavidsonJupyter/2021-common-GCCcore-10.2.0/lib/python3.8/site-packages/sklearn/model_selection/_validation.py\", line 686, in _fit_and_score\n",
      "    estimator.fit(X_train, y_train, **fit_params)\n",
      "  File \"/opt/pub/eb/apps/all/DavidsonJupyter/2021-common-GCCcore-10.2.0/lib/python3.8/site-packages/sklearn/linear_model/_logistic.py\", line 1091, in fit\n",
      "    solver = _check_solver(self.solver, self.penalty, self.dual)\n",
      "  File \"/opt/pub/eb/apps/all/DavidsonJupyter/2021-common-GCCcore-10.2.0/lib/python3.8/site-packages/sklearn/linear_model/_logistic.py\", line 61, in _check_solver\n",
      "    raise ValueError(\n",
      "ValueError: Solver lbfgs supports only 'l2' or 'none' penalties, got l1 penalty.\n",
      "\n",
      "  warnings.warn(some_fits_failed_message, FitFailedWarning)\n",
      "/opt/pub/eb/apps/all/DavidsonJupyter/2021-common-GCCcore-10.2.0/lib/python3.8/site-packages/sklearn/model_selection/_search.py:953: UserWarning: One or more of the test scores are non-finite: [ nan 0.78]\n",
      "  warnings.warn(\n"
     ]
    },
    {
     "name": "stdout",
     "output_type": "stream",
     "text": [
      "{'C': 100, 'penalty': 'l2'}\n",
      "0.78\n"
     ]
    }
   ],
   "source": [
    "params_4 = {'C':[100], 'penalty': ['l1', 'l2']}\n",
    "\n",
    "grid_logistic_4 = GridSearchCV(logistic, params_4, cv=5, scoring = 'accuracy')\n",
    "grid_logistic_4.fit(small_X, small_y)\n",
    "\n",
    "print(grid_logistic_4.best_params_)\n",
    "print(grid_logistic_4.best_score_)"
   ]
  },
  {
   "cell_type": "code",
   "execution_count": 23,
   "id": "50a34bc2-4e62-4e24-a2c4-b86a5d165954",
   "metadata": {},
   "outputs": [
    {
     "ename": "NameError",
     "evalue": "name 'best_log' is not defined",
     "output_type": "error",
     "traceback": [
      "\u001b[0;31m---------------------------------------------------------------------------\u001b[0m",
      "\u001b[0;31mNameError\u001b[0m                                 Traceback (most recent call last)",
      "Input \u001b[0;32mIn [23]\u001b[0m, in \u001b[0;36m<cell line: 6>\u001b[0;34m()\u001b[0m\n\u001b[1;32m      3\u001b[0m best_logistic \u001b[38;5;241m=\u001b[39m LogisticRegression(C\u001b[38;5;241m=\u001b[39m\u001b[38;5;241m0.1\u001b[39m, max_iter\u001b[38;5;241m=\u001b[39m\u001b[38;5;241m10000\u001b[39m)\n\u001b[1;32m      5\u001b[0m start_time \u001b[38;5;241m=\u001b[39m time\u001b[38;5;241m.\u001b[39mtime()\n\u001b[0;32m----> 6\u001b[0m y_pred_best_log \u001b[38;5;241m=\u001b[39m cross_val_predict(\u001b[43mbest_log\u001b[49m, small_X, small_y, cv\u001b[38;5;241m=\u001b[39m\u001b[38;5;241m5\u001b[39m)\n\u001b[1;32m      7\u001b[0m accuracy_best_log \u001b[38;5;241m=\u001b[39m accuracy_score(small_y, y_pred_best_log)\n\u001b[1;32m      8\u001b[0m \u001b[38;5;28mprint\u001b[39m(time\u001b[38;5;241m.\u001b[39mtime() \u001b[38;5;241m-\u001b[39m start_time)\n",
      "\u001b[0;31mNameError\u001b[0m: name 'best_log' is not defined"
     ]
    }
   ],
   "source": [
    "# Determining run time using the optimal combination of hyperparameter values\n",
    "\n",
    "best_log = LogisticRegression(C=0.1, max_iter=10000)\n",
    "\n",
    "start_time = time.time()\n",
    "y_pred_best_log = cross_val_predict(best_log, small_X, small_y, cv=5)\n",
    "accuracy_best_log = accuracy_score(small_y, y_pred_best_log)\n",
    "print(time.time() - start_time)\n",
    "print(accuracy_best_log)"
   ]
  },
  {
   "cell_type": "code",
   "execution_count": null,
   "id": "720d691f-3489-4b8a-9904-e9b5b75056fe",
   "metadata": {},
   "outputs": [],
   "source": []
  }
 ],
 "metadata": {
  "kernelspec": {
   "display_name": "Python 3.8",
   "language": "python",
   "name": "python3"
  },
  "language_info": {
   "codemirror_mode": {
    "name": "ipython",
    "version": 3
   },
   "file_extension": ".py",
   "mimetype": "text/x-python",
   "name": "python",
   "nbconvert_exporter": "python",
   "pygments_lexer": "ipython3",
   "version": "3.8.6"
  }
 },
 "nbformat": 4,
 "nbformat_minor": 5
}
