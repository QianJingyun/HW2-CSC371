{
 "cells": [
  {
   "cell_type": "code",
   "execution_count": null,
   "id": "61a7e643-e21d-4c62-aa12-13e387a931d3",
   "metadata": {},
   "outputs": [],
   "source": [
    "import gzip\n",
    "import numpy as np\n",
    "import matplotlib.pyplot as plt\n",
    "import pandas as pd\n",
    "from sklearn.neighbors import KNeighborsClassifier\n",
    "from sklearn.metrics import confusion_matrix, roc_curve, auc, make_scorer\n",
    "from sklearn.datasets import load_iris\n",
    "from sklearn.preprocessing import MinMaxScaler\n",
    "from sklearn.model_selection import cross_val_score, StratifiedKFold\n",
    "from sklearn.preprocessing import label_binarize"
   ]
  },
  {
   "cell_type": "code",
   "execution_count": null,
   "id": "535cf12d-e023-4d86-bb11-a3ff8f285d21",
   "metadata": {},
   "outputs": [],
   "source": [
    "def load_fashion_mnist():\n",
    "    \"\"\"\n",
    "    Loads Fashion MNIST dataset.\n",
    "    \n",
    "    Adapted from: https://github.com/zalandoresearch/fashion-mnist/blob/master/utils/mnist_reader.py\n",
    "    \"\"\"\n",
    "    TRAIN_IMAGES = 'train-images-idx3-ubyte.gz'\n",
    "    TRAIN_LABELS = 'train-labels-idx1-ubyte.gz'    \n",
    "    TEST_IMAGES = 't10k-images-idx3-ubyte.gz'\n",
    "    TEST_LABELS = 't10k-labels-idx1-ubyte.gz'\n",
    "\n",
    "    with gzip.open(TRAIN_LABELS, 'rb') as tr_labels_file, gzip.open(TEST_LABELS, 'rb') as ts_labels_file:\n",
    "        train_labels = np.frombuffer(tr_labels_file.read(), dtype=np.uint8, offset=8)\n",
    "        test_labels = np.frombuffer(ts_labels_file.read(), dtype=np.uint8, offset=8)\n",
    "\n",
    "    with gzip.open(TRAIN_IMAGES, 'rb') as tr_images_file, gzip.open(TEST_IMAGES, 'rb') as ts_images_file:\n",
    "        train_images = np.frombuffer(tr_images_file.read(), dtype=np.uint8, offset=16).reshape(len(train_labels), 784)\n",
    "        test_images = np.frombuffer(ts_images_file.read(), dtype=np.uint8, offset=16).reshape(len(test_labels), 784)\n",
    "\n",
    "    return train_images, train_labels, test_images, test_labels\n",
    "\n",
    "train_images, train_labels, test_images, test_labels = load_fashion_mnist()"
   ]
  },
  {
   "cell_type": "code",
   "execution_count": null,
   "id": "dcdd555a-322c-437c-8ae0-06889346f746",
   "metadata": {},
   "outputs": [],
   "source": [
    "y = train_labels\n",
    "#y = pd.DataFrame(train_labels, columns = ['labels'])\n",
    "y"
   ]
  },
  {
   "cell_type": "code",
   "execution_count": null,
   "id": "ef6d4b3d-7f57-435c-9991-f9bdcf8654e4",
   "metadata": {},
   "outputs": [],
   "source": [
    "y = label_binarize(y, classes=[0, 1, 2, 3, 4,5,6,7,8])"
   ]
  },
  {
   "cell_type": "code",
   "execution_count": null,
   "id": "a458af21-e8d3-4d80-9749-c228877aec62",
   "metadata": {},
   "outputs": [],
   "source": [
    "#bar graph of all the labels\n",
    "#ax = y.value_counts().plot(kind = 'bar', figsize=(14,10), title=\"Stage of cancer type composition\", fontsize=20)\n",
    "#ax.set_xlabel(\"Types of cancer\", fontsize=20)\n",
    "#ax.set_ylabel(\"Total amount\", fontsize=20)\n",
    "#ax.bar_label(ax.containers[0], fontsize=20)"
   ]
  },
  {
   "cell_type": "code",
   "execution_count": null,
   "id": "6de0695e-cd3f-4507-a5f8-91e740bd10f7",
   "metadata": {},
   "outputs": [],
   "source": [
    "# rescaling features using min-max scaling\n",
    "scaler = MinMaxScaler()\n",
    "X = scaler.fit_transform(train_images)\n",
    "#train_scaled is X\n",
    "test_scaled = scaler.fit_transform(test_images)"
   ]
  },
  {
   "cell_type": "code",
   "execution_count": null,
   "id": "0e227636-166f-4af7-a850-ccee3a68ce5e",
   "metadata": {},
   "outputs": [],
   "source": [
    "X.shape"
   ]
  },
  {
   "cell_type": "code",
   "execution_count": null,
   "id": "42de0eb6-b413-4a4f-95b6-cd48e33153b0",
   "metadata": {},
   "outputs": [],
   "source": [
    "small_y = y[:10]\n",
    "small_X = X[:10,:]\n",
    "small_y.shape"
   ]
  },
  {
   "cell_type": "code",
   "execution_count": null,
   "id": "c2251d97-7372-4440-8eb2-38152387389e",
   "metadata": {},
   "outputs": [],
   "source": [
    "# finding nearest neighbors using brute force and default n_neighbors & radius\n",
    "# Create a nearest neighbor classifier\n",
    "clf = KNeighborsClassifier(n_neighbors=3, algorithm='kd_tree')\n",
    "clf"
   ]
  },
  {
   "cell_type": "code",
   "execution_count": null,
   "id": "bea9d3ae-94bb-433d-9f5f-51474bd9ddc2",
   "metadata": {},
   "outputs": [],
   "source": [
    "# Define a custom scorer based on ROC AUC\n",
    "roc_auc_scorer = make_scorer(auc, greater_is_better=True, needs_proba=True, multi_class=\"ovo\")\n",
    "roc_auc_scorer"
   ]
  },
  {
   "cell_type": "code",
   "execution_count": null,
   "id": "03867ae2-9339-4f1c-bf27-81e5973bbd7b",
   "metadata": {},
   "outputs": [],
   "source": [
    "# Define a 10-fold cross-validation strategy\n",
    "cv = StratifiedKFold(n_splits=10, shuffle=True, random_state=42)\n",
    "cv"
   ]
  },
  {
   "cell_type": "code",
   "execution_count": null,
   "id": "fb621c17-ed24-4a39-8e46-006c2170b6c8",
   "metadata": {},
   "outputs": [],
   "source": [
    "# Compute the confusion matrix\n",
    "y_pred = clf.fit(small_X, small_y).predict(small_X)\n",
    "cm = confusion_matrix(small_y.argmax(axis=1), y_pred.argmax(axis=1), labels = [0, 1, 2, 3, 4,5,6,7,8,9])\n",
    "cm"
   ]
  },
  {
   "cell_type": "code",
   "execution_count": null,
   "id": "cf52f639-b762-4194-8143-af184f9dc1ae",
   "metadata": {},
   "outputs": [],
   "source": [
    "# Compute the confusion matrix\n",
    "y_pred = clf.fit(X, y).predict(X)\n",
    "cm = confusion_matrix(y.argmax(axis=1), y_pred.argmax(axis=1), labels = [0, 1, 2, 3, 4,5,6,7,8,9])\n",
    "cm"
   ]
  },
  {
   "cell_type": "code",
   "execution_count": null,
   "id": "73c2f05c-4c16-4a68-9471-12b86835341c",
   "metadata": {},
   "outputs": [],
   "source": [
    "clf.predict_proba(small_X)[:, 1]"
   ]
  },
  {
   "cell_type": "code",
   "execution_count": null,
   "id": "2dc0eefc-6122-43da-b16f-00ecdac0ab99",
   "metadata": {
    "tags": []
   },
   "outputs": [],
   "source": [
    "clf.predict_proba(small_X)"
   ]
  },
  {
   "cell_type": "code",
   "execution_count": null,
   "id": "8ca0c3bd-7cf0-42a4-9010-f5ada49ee515",
   "metadata": {},
   "outputs": [],
   "source": [
    "fpr = dict()\n",
    "tpr = dict()\n",
    "roc_auc = dict()\n",
    "urc = dict()\n",
    "for i in range(y.shape[1]):\n",
    "    fpr[i], tpr[i], _ = roc_curve(y[:, i], clf.predict_proba(small_X)[:, i])\n",
    "    urc[i] = 1 - fpr[i]\n",
    "    roc_auc[i] = auc(fpr[i], tpr[i])\n",
    "\n",
    "print(\"ROC AUC score: {:.3f}\".format(np.mean(list(roc_auc.values()))))"
   ]
  },
  {
   "cell_type": "code",
   "execution_count": null,
   "id": "c8862ead-dc10-4c95-9945-d8292a826df5",
   "metadata": {},
   "outputs": [],
   "source": [
    "# Compute the ROC curve and the URC curve\n",
    "fpr, tpr, _ = roc_curve(small_y, y_proba)\n",
    "urc = 1 - fpr\n",
    "\n",
    "print(\"ROC AUC score: {:.3f}\".format(auc(fpr, tpr)))\n",
    "\n",
    "# Plot the ROC curve and the URC curve\n",
    "import matplotlib.pyplot as plt\n",
    "plt.plot(fpr, tpr, label=\"ROC curve\")\n",
    "plt.plot(urc, tpr, label=\"URC curve\")\n",
    "plt.xlabel(\"False Positive Rate (1 - Specificity)\")\n",
    "plt.ylabel(\"True Positive Rate (Sensitivity)\")\n",
    "plt.legend()\n",
    "plt.show()"
   ]
  },
  {
   "cell_type": "code",
   "execution_count": null,
   "id": "61eecc6d-4d68-4497-abbc-03dbb1ffd114",
   "metadata": {
    "tags": []
   },
   "outputs": [],
   "source": [
    "\n",
    "y_pred = clf.fit(X, y).predict(X)\n",
    "cm = confusion_matrix(y, y_pred)\n",
    "print(\"Confusion matrix:\\n\", cm)"
   ]
  },
  {
   "cell_type": "code",
   "execution_count": null,
   "id": "38905b97-af66-409e-876f-e87e30f40daa",
   "metadata": {},
   "outputs": [],
   "source": [
    "# Compute the ROC curve and the URC curve\n",
    "fpr, tpr, _ = roc_curve(y, clf.predict_proba(X)[:, 1])\n",
    "urc = 1 - fpr\n",
    "\n",
    "print(\"ROC AUC score: {:.3f}\".format(auc(fpr, tpr)))\n",
    "\n",
    "# Plot the ROC curve and the URC curve\n",
    "import matplotlib.pyplot as plt\n",
    "plt.plot(fpr, tpr, label=\"ROC curve\")\n",
    "plt.plot(urc, tpr, label=\"URC curve\")\n",
    "plt.xlabel(\"False Positive Rate (1 - Specificity)\")\n",
    "plt.ylabel(\"True Positive Rate (Sensitivity)\")\n",
    "plt.legend()\n",
    "plt.show()"
   ]
  },
  {
   "cell_type": "code",
   "execution_count": null,
   "id": "61e91757-7f47-4248-86a0-b257ae42a940",
   "metadata": {},
   "outputs": [],
   "source": []
  }
 ],
 "metadata": {
  "kernelspec": {
   "display_name": "Python 3.8",
   "language": "python",
   "name": "python3"
  },
  "language_info": {
   "codemirror_mode": {
    "name": "ipython",
    "version": 3
   },
   "file_extension": ".py",
   "mimetype": "text/x-python",
   "name": "python",
   "nbconvert_exporter": "python",
   "pygments_lexer": "ipython3",
   "version": "3.8.6"
  }
 },
 "nbformat": 4,
 "nbformat_minor": 5
}
