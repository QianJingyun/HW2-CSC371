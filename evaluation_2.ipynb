{
 "cells": [
  {
   "cell_type": "code",
   "execution_count": null,
   "id": "61a7e643-e21d-4c62-aa12-13e387a931d3",
   "metadata": {},
   "outputs": [],
   "source": [
    "import gzip\n",
    "import numpy as np\n",
    "import matplotlib.pyplot as plt\n",
    "from sklearn.neighbors import KNeighborsClassifier\n",
    "from sklearn.metrics import confusion_matrix, roc_curve, auc, make_scorer, accuracy_score\n",
    "from sklearn.preprocessing import MinMaxScaler\n",
    "from sklearn.model_selection import cross_val_score, KFold, cross_val_predict\n",
    "from sklearn.preprocessing import LabelBinarizer\n",
    "from sklearn.feature_selection import SelectKBest\n",
    "from sklearn.feature_selection import f_classif\n",
    "from sklearn.linear_model import LogisticRegression"
   ]
  },
  {
   "cell_type": "code",
   "execution_count": null,
   "id": "535cf12d-e023-4d86-bb11-a3ff8f285d21",
   "metadata": {},
   "outputs": [],
   "source": [
    "def load_fashion_mnist():\n",
    "    \"\"\"\n",
    "    Loads Fashion MNIST dataset.\n",
    "    \n",
    "    Adapted from: https://github.com/zalandoresearch/fashion-mnist/blob/master/utils/mnist_reader.py\n",
    "    \"\"\"\n",
    "    TRAIN_IMAGES = 'train-images-idx3-ubyte.gz'\n",
    "    TRAIN_LABELS = 'train-labels-idx1-ubyte.gz'    \n",
    "    TEST_IMAGES = 't10k-images-idx3-ubyte.gz'\n",
    "    TEST_LABELS = 't10k-labels-idx1-ubyte.gz'\n",
    "\n",
    "    with gzip.open(TRAIN_LABELS, 'rb') as tr_labels_file, gzip.open(TEST_LABELS, 'rb') as ts_labels_file:\n",
    "        train_labels = np.frombuffer(tr_labels_file.read(), dtype=np.uint8, offset=8)\n",
    "        test_labels = np.frombuffer(ts_labels_file.read(), dtype=np.uint8, offset=8)\n",
    "\n",
    "    with gzip.open(TRAIN_IMAGES, 'rb') as tr_images_file, gzip.open(TEST_IMAGES, 'rb') as ts_images_file:\n",
    "        train_images = np.frombuffer(tr_images_file.read(), dtype=np.uint8, offset=16).reshape(len(train_labels), 784)\n",
    "        test_images = np.frombuffer(ts_images_file.read(), dtype=np.uint8, offset=16).reshape(len(test_labels), 784)\n",
    "\n",
    "    return train_images, train_labels, test_images, test_labels\n",
    "\n",
    "train_images, train_labels, test_images, test_labels = load_fashion_mnist()"
   ]
  },
  {
   "cell_type": "code",
   "execution_count": null,
   "id": "dcdd555a-322c-437c-8ae0-06889346f746",
   "metadata": {},
   "outputs": [],
   "source": [
    "y = train_labels\n",
    "y.shape"
   ]
  },
  {
   "cell_type": "code",
   "execution_count": null,
   "id": "ef6d4b3d-7f57-435c-9991-f9bdcf8654e4",
   "metadata": {},
   "outputs": [],
   "source": [
    "# rescaling features using min-max scaling\n",
    "scaler = MinMaxScaler()\n",
    "X = scaler.fit_transform(train_images)\n",
    "#train_scaled is X\n",
    "test_scaled = scaler.fit_transform(test_images)\n",
    "X.shape"
   ]
  },
  {
   "cell_type": "code",
   "execution_count": null,
   "id": "a458af21-e8d3-4d80-9749-c228877aec62",
   "metadata": {},
   "outputs": [],
   "source": [
    "small_y = y[:10000]\n",
    "small_X = X[:10000,:]"
   ]
  },
  {
   "cell_type": "code",
   "execution_count": null,
   "id": "b8b8418b-8577-400e-bbd4-a816bd3f4c8a",
   "metadata": {},
   "outputs": [],
   "source": [
    "print(small_X.shape)\n",
    "print(small_y.shape)\n",
    "#small_X and X have the same shape\n",
    "#small_y and y have the same shape"
   ]
  },
  {
   "cell_type": "code",
   "execution_count": null,
   "id": "6de0695e-cd3f-4507-a5f8-91e740bd10f7",
   "metadata": {},
   "outputs": [],
   "source": [
    "# Create a nearest neighbor classifier\n",
    "clf = KNeighborsClassifier(n_neighbors=3, algorithm='kd_tree')\n",
    "clf"
   ]
  },
  {
   "cell_type": "code",
   "execution_count": null,
   "id": "0e227636-166f-4af7-a850-ccee3a68ce5e",
   "metadata": {},
   "outputs": [],
   "source": [
    "y_pred = cross_val_predict(clf, small_X, small_y, cv=5)"
   ]
  },
  {
   "cell_type": "code",
   "execution_count": null,
   "id": "42de0eb6-b413-4a4f-95b6-cd48e33153b0",
   "metadata": {
    "tags": []
   },
   "outputs": [],
   "source": [
    "y_pred"
   ]
  },
  {
   "cell_type": "code",
   "execution_count": null,
   "id": "c2251d97-7372-4440-8eb2-38152387389e",
   "metadata": {},
   "outputs": [],
   "source": [
    "cm1 = confusion_matrix(small_y, y_pred, labels = [0, 1, 2, 3, 4,5,6,7,8,9])\n",
    "cm1"
   ]
  },
  {
   "cell_type": "code",
   "execution_count": null,
   "id": "235ec899-0699-4981-ab92-d4bef1114869",
   "metadata": {},
   "outputs": [],
   "source": [
    "accuracy = accuracy_score(small_y, y_pred)\n",
    "accuracy"
   ]
  },
  {
   "cell_type": "code",
   "execution_count": null,
   "id": "a150802b-751a-4bcd-b8c7-0ac4143d8dfa",
   "metadata": {},
   "outputs": [],
   "source": [
    "y_score = clf.predict_proba(small_X)\n",
    "y_score"
   ]
  },
  {
   "cell_type": "code",
   "execution_count": null,
   "id": "0735a149-487a-4775-958c-6a7d6be3330a",
   "metadata": {},
   "outputs": [],
   "source": [
    "lb = LabelBinarizer()\n",
    "y_binarized = lb.fit_transform(small_y)\n",
    "y_binarized"
   ]
  },
  {
   "cell_type": "code",
   "execution_count": null,
   "id": "6cc47b93-83b5-457d-92cb-d391edd83d6c",
   "metadata": {},
   "outputs": [],
   "source": [
    "# Compute and plot ROC curve for each class\n",
    "fpr = dict()\n",
    "tpr = dict()\n",
    "roc_auc = dict()\n",
    "n_classes = len(lb.classes_)\n",
    "for i in range(n_classes):\n",
    "    fpr[i], tpr[i], _ = roc_curve(y_binarized[:, i], y_score[:, i])\n",
    "    roc_auc[i] = auc(fpr[i], tpr[i])"
   ]
  },
  {
   "cell_type": "code",
   "execution_count": null,
   "id": "1c043ca8-a1ba-445f-b3cf-a8c7d45adff9",
   "metadata": {},
   "outputs": [],
   "source": [
    "# Compute micro-averaged ROC curve and AUC score\n",
    "fpr[\"micro\"], tpr[\"micro\"], _ = roc_curve(y_binarized.ravel(), y_score.ravel())\n",
    "roc_auc[\"micro\"] = auc(fpr[\"micro\"], tpr[\"micro\"])"
   ]
  },
  {
   "cell_type": "code",
   "execution_count": null,
   "id": "b57f9002-e64b-4a9f-8f92-893e4cc1259e",
   "metadata": {},
   "outputs": [],
   "source": [
    "# Compute macro-averaged ROC curve and AUC score\n",
    "all_fpr = np.unique(np.concatenate([fpr[i] for i in range(n_classes)]))\n",
    "mean_tpr = np.zeros_like(all_fpr)\n",
    "for i in range(n_classes):\n",
    "    mean_tpr += np.interp(all_fpr, fpr[i], tpr[i])\n",
    "mean_tpr /= n_classes\n",
    "fpr[\"macro\"] = all_fpr\n",
    "tpr[\"macro\"] = mean_tpr\n",
    "roc_auc[\"macro\"] = auc(fpr[\"macro\"], tpr[\"macro\"])"
   ]
  },
  {
   "cell_type": "code",
   "execution_count": null,
   "id": "be5a22bd-bc3c-4291-a123-ba656e7f875c",
   "metadata": {},
   "outputs": [],
   "source": [
    "# Plot ROC curve for each class and the macro/micro averages\n",
    "plt.figure(figsize=(8,6))\n",
    "lw = 2\n",
    "plt.plot(fpr[\"micro\"], tpr[\"micro\"],\n",
    "         label='micro-average ROC curve (AUC = {0:0.2f})'\n",
    "               ''.format(roc_auc[\"micro\"]),\n",
    "         color='deeppink', linestyle=':', linewidth=lw)\n",
    "\n",
    "plt.plot(fpr[\"macro\"], tpr[\"macro\"],\n",
    "         label='macro-average ROC curve (AUC = {0:0.2f})'\n",
    "               ''.format(roc_auc[\"macro\"]),\n",
    "         color='navy', linestyle=':', linewidth=lw)\n",
    "\n",
    "plt.plot([0, 1], [0, 1], 'k--', lw=lw)\n",
    "plt.xlim([0.0, 1.0])\n",
    "plt.ylim([0.0, 1.05])\n",
    "plt.xlabel('False Positive Rate')\n",
    "plt.ylabel('True Positive Rate')\n",
    "plt.title('Receiver Operating Characteristic Example')\n",
    "plt.legend(loc=\"lower right\")\n",
    "plt.show()"
   ]
  },
  {
   "cell_type": "markdown",
   "id": "b09765ad-ca9b-4bdb-867a-fe00c8781bdd",
   "metadata": {},
   "source": [
    "Feature Selection"
   ]
  },
  {
   "cell_type": "code",
   "execution_count": null,
   "id": "bea9d3ae-94bb-433d-9f5f-51474bd9ddc2",
   "metadata": {},
   "outputs": [],
   "source": [
    "# Compute the correlation coefficients between each feature and the target variable\n",
    "corr_coef = []\n",
    "for i in range(small_X.shape[1]):\n",
    "    corr_coef.append(abs(np.corrcoef(X[:, i], y)[0, 1]))"
   ]
  },
  {
   "cell_type": "code",
   "execution_count": null,
   "id": "21707c5a-a464-4115-a6ea-8aaa3d385b2e",
   "metadata": {},
   "outputs": [],
   "source": [
    "# Select the top 10 features based on their correlation coefficients\n",
    "selector = SelectKBest(score_func=f_classif, k=400)\n",
    "selector.fit(small_X, small_y)\n",
    "X_selected = selector.transform(small_X)\n",
    "X_selected[0].shape\n",
    "#small_X[0].shape"
   ]
  },
  {
   "cell_type": "code",
   "execution_count": null,
   "id": "fb621c17-ed24-4a39-8e46-006c2170b6c8",
   "metadata": {},
   "outputs": [],
   "source": [
    "# Print the indices of the selected features\n",
    "selected_features = selector.get_support(indices=True)"
   ]
  },
  {
   "cell_type": "code",
   "execution_count": null,
   "id": "cf52f639-b762-4194-8143-af184f9dc1ae",
   "metadata": {},
   "outputs": [],
   "source": [
    "plt.figure()\n",
    "plt.imshow(X_selected[0].reshape(20, 20))\n",
    "plt.colorbar()\n",
    "plt.grid(False)\n",
    "plt.show()"
   ]
  },
  {
   "cell_type": "code",
   "execution_count": null,
   "id": "73c2f05c-4c16-4a68-9471-12b86835341c",
   "metadata": {},
   "outputs": [],
   "source": [
    "plt.figure()\n",
    "plt.imshow(small_X[0].reshape(28, 28))\n",
    "plt.colorbar()\n",
    "plt.grid(False)\n",
    "plt.show()"
   ]
  },
  {
   "cell_type": "code",
   "execution_count": null,
   "id": "2dc0eefc-6122-43da-b16f-00ecdac0ab99",
   "metadata": {
    "tags": []
   },
   "outputs": [],
   "source": [
    "y_pred2 = cross_val_predict(clf, X_selected, small_y, cv=5)"
   ]
  },
  {
   "cell_type": "code",
   "execution_count": null,
   "id": "8ca0c3bd-7cf0-42a4-9010-f5ada49ee515",
   "metadata": {},
   "outputs": [],
   "source": [
    "cm2 = confusion_matrix(small_y, y_pred2, labels = [0, 1, 2, 3, 4,5,6,7,8,9])\n",
    "cm2"
   ]
  },
  {
   "cell_type": "code",
   "execution_count": null,
   "id": "c8862ead-dc10-4c95-9945-d8292a826df5",
   "metadata": {},
   "outputs": [],
   "source": [
    "accuracy2 = accuracy_score(small_y, y_pred2)\n",
    "accuracy2"
   ]
  },
  {
   "cell_type": "code",
   "execution_count": null,
   "id": "7604bc81-3c52-47f4-9829-42855eade492",
   "metadata": {},
   "outputs": [],
   "source": [
    "clf.fit(X_selected,small_y)"
   ]
  },
  {
   "cell_type": "code",
   "execution_count": null,
   "id": "61eecc6d-4d68-4497-abbc-03dbb1ffd114",
   "metadata": {
    "tags": []
   },
   "outputs": [],
   "source": [
    "y_score2 = clf.predict_proba(X_selected)\n",
    "y_score2"
   ]
  },
  {
   "cell_type": "code",
   "execution_count": null,
   "id": "38905b97-af66-409e-876f-e87e30f40daa",
   "metadata": {},
   "outputs": [],
   "source": [
    "# Compute and plot ROC curve for each class\n",
    "fpr = dict()\n",
    "tpr = dict()\n",
    "roc_auc = dict()\n",
    "n_classes = len(lb.classes_)\n",
    "for i in range(n_classes):\n",
    "    fpr[i], tpr[i], _ = roc_curve(y_binarized[:, i], y_score2[:, i])\n",
    "    roc_auc[i] = auc(fpr[i], tpr[i])\n",
    "    \n",
    "# Compute micro-averaged ROC curve and AUC score\n",
    "fpr[\"micro\"], tpr[\"micro\"], _ = roc_curve(y_binarized.ravel(), y_score2.ravel())\n",
    "roc_auc[\"micro\"] = auc(fpr[\"micro\"], tpr[\"micro\"])\n",
    "\n",
    "# Compute macro-averaged ROC curve and AUC score\n",
    "all_fpr = np.unique(np.concatenate([fpr[i] for i in range(n_classes)]))\n",
    "mean_tpr = np.zeros_like(all_fpr)\n",
    "for i in range(n_classes):\n",
    "    mean_tpr += np.interp(all_fpr, fpr[i], tpr[i])\n",
    "mean_tpr /= n_classes\n",
    "fpr[\"macro\"] = all_fpr\n",
    "tpr[\"macro\"] = mean_tpr\n",
    "roc_auc[\"macro\"] = auc(fpr[\"macro\"], tpr[\"macro\"])\n",
    "\n",
    "# Plot ROC curve for each class and the macro/micro averages\n",
    "plt.figure(figsize=(8,6))\n",
    "lw = 2\n",
    "plt.plot(fpr[\"micro\"], tpr[\"micro\"],\n",
    "         label='micro-average ROC curve (AUC = {0:0.2f})'\n",
    "               ''.format(roc_auc[\"micro\"]),\n",
    "         color='deeppink', linestyle=':', linewidth=lw)\n",
    "\n",
    "plt.plot(fpr[\"macro\"], tpr[\"macro\"],\n",
    "         label='macro-average ROC curve (AUC = {0:0.2f})'\n",
    "               ''.format(roc_auc[\"macro\"]),\n",
    "         color='navy', linestyle=':', linewidth=lw)\n",
    "\n",
    "plt.plot([0, 1], [0, 1], 'k--', lw=lw)\n",
    "plt.xlim([0.0, 1.0])\n",
    "plt.ylim([0.0, 1.05])\n",
    "plt.xlabel('False Positive Rate')\n",
    "plt.ylabel('True Positive Rate')\n",
    "plt.title('Receiver Operating Characteristic Example')\n",
    "plt.legend(loc=\"lower right\")\n",
    "plt.show()"
   ]
  },
  {
   "cell_type": "code",
   "execution_count": null,
   "id": "61e91757-7f47-4248-86a0-b257ae42a940",
   "metadata": {},
   "outputs": [],
   "source": [
    "lr = LogisticRegression(penalty='l1', solver='saga')\n",
    "lr.fit(small_X, small_y)"
   ]
  },
  {
   "cell_type": "code",
   "execution_count": null,
   "id": "db1dbecb-cb3c-43f9-8f33-a77ab27f5fd1",
   "metadata": {},
   "outputs": [],
   "source": []
  }
 ],
 "metadata": {
  "kernelspec": {
   "display_name": "Python 3.8",
   "language": "python",
   "name": "python3"
  },
  "language_info": {
   "codemirror_mode": {
    "name": "ipython",
    "version": 3
   },
   "file_extension": ".py",
   "mimetype": "text/x-python",
   "name": "python",
   "nbconvert_exporter": "python",
   "pygments_lexer": "ipython3",
   "version": "3.8.6"
  }
 },
 "nbformat": 4,
 "nbformat_minor": 5
}
