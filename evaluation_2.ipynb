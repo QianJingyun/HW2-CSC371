{
 "cells": [
  {
   "cell_type": "code",
   "execution_count": null,
   "id": "61a7e643-e21d-4c62-aa12-13e387a931d3",
   "metadata": {},
   "outputs": [],
   "source": [
    "import gzip\n",
    "import numpy as np\n",
    "import matplotlib.pyplot as plt\n",
    "import pandas as pd\n",
    "from sklearn.neighbors import KNeighborsClassifier\n",
    "from sklearn.metrics import confusion_matrix, roc_curve, auc, make_scorer\n",
    "from sklearn.datasets import load_iris\n",
    "from sklearn.preprocessing import MinMaxScaler\n",
    "from sklearn.model_selection import cross_val_score, KFold, cross_val_predict\n",
    "from sklearn.preprocessing import label_binarize"
   ]
  },
  {
   "cell_type": "code",
   "execution_count": null,
   "id": "535cf12d-e023-4d86-bb11-a3ff8f285d21",
   "metadata": {},
   "outputs": [],
   "source": [
    "def load_fashion_mnist():\n",
    "    \"\"\"\n",
    "    Loads Fashion MNIST dataset.\n",
    "    \n",
    "    Adapted from: https://github.com/zalandoresearch/fashion-mnist/blob/master/utils/mnist_reader.py\n",
    "    \"\"\"\n",
    "    TRAIN_IMAGES = 'train-images-idx3-ubyte.gz'\n",
    "    TRAIN_LABELS = 'train-labels-idx1-ubyte.gz'    \n",
    "    TEST_IMAGES = 't10k-images-idx3-ubyte.gz'\n",
    "    TEST_LABELS = 't10k-labels-idx1-ubyte.gz'\n",
    "\n",
    "    with gzip.open(TRAIN_LABELS, 'rb') as tr_labels_file, gzip.open(TEST_LABELS, 'rb') as ts_labels_file:\n",
    "        train_labels = np.frombuffer(tr_labels_file.read(), dtype=np.uint8, offset=8)\n",
    "        test_labels = np.frombuffer(ts_labels_file.read(), dtype=np.uint8, offset=8)\n",
    "\n",
    "    with gzip.open(TRAIN_IMAGES, 'rb') as tr_images_file, gzip.open(TEST_IMAGES, 'rb') as ts_images_file:\n",
    "        train_images = np.frombuffer(tr_images_file.read(), dtype=np.uint8, offset=16).reshape(len(train_labels), 784)\n",
    "        test_images = np.frombuffer(ts_images_file.read(), dtype=np.uint8, offset=16).reshape(len(test_labels), 784)\n",
    "\n",
    "    return train_images, train_labels, test_images, test_labels\n",
    "\n",
    "train_images, train_labels, test_images, test_labels = load_fashion_mnist()"
   ]
  },
  {
   "cell_type": "code",
   "execution_count": null,
   "id": "dcdd555a-322c-437c-8ae0-06889346f746",
   "metadata": {},
   "outputs": [],
   "source": [
    "y = train_labels\n",
    "y.shape"
   ]
  },
  {
   "cell_type": "code",
   "execution_count": null,
   "id": "ef6d4b3d-7f57-435c-9991-f9bdcf8654e4",
   "metadata": {},
   "outputs": [],
   "source": [
    "# rescaling features using min-max scaling\n",
    "scaler = MinMaxScaler()\n",
    "X = scaler.fit_transform(train_images)\n",
    "#train_scaled is X\n",
    "test_scaled = scaler.fit_transform(test_images)"
   ]
  },
  {
   "cell_type": "code",
   "execution_count": null,
   "id": "a458af21-e8d3-4d80-9749-c228877aec62",
   "metadata": {},
   "outputs": [],
   "source": [
    "small_y = y[:6000]\n",
    "small_X = X[:6000,:]"
   ]
  },
  {
   "cell_type": "code",
   "execution_count": null,
   "id": "6de0695e-cd3f-4507-a5f8-91e740bd10f7",
   "metadata": {},
   "outputs": [],
   "source": [
    "# Create a nearest neighbor classifier\n",
    "clf = KNeighborsClassifier(n_neighbors=3, algorithm='kd_tree')\n",
    "clf"
   ]
  },
  {
   "cell_type": "code",
   "execution_count": null,
   "id": "0e227636-166f-4af7-a850-ccee3a68ce5e",
   "metadata": {},
   "outputs": [],
   "source": [
    "y_pred = cross_val_predict(clf, small_X, small_y, cv=5)"
   ]
  },
  {
   "cell_type": "code",
   "execution_count": null,
   "id": "42de0eb6-b413-4a4f-95b6-cd48e33153b0",
   "metadata": {
    "tags": []
   },
   "outputs": [],
   "source": [
    "y_pred"
   ]
  },
  {
   "cell_type": "code",
   "execution_count": null,
   "id": "b1db8774-129d-4556-8cf2-74e90301a52c",
   "metadata": {},
   "outputs": [],
   "source": [
    "y_predict = clf.fit(small_X,small_y).predict(small_X)"
   ]
  },
  {
   "cell_type": "code",
   "execution_count": null,
   "id": "f53b4cad-5d74-414a-b852-c6dba766b8e8",
   "metadata": {
    "tags": []
   },
   "outputs": [],
   "source": [
    "y_predict"
   ]
  },
  {
   "cell_type": "code",
   "execution_count": null,
   "id": "c2251d97-7372-4440-8eb2-38152387389e",
   "metadata": {},
   "outputs": [],
   "source": [
    "cm1 = confusion_matrix(small_y, y_pred, labels = [0, 1, 2, 3, 4,5,6,7,8,9])\n",
    "cm1"
   ]
  },
  {
   "cell_type": "code",
   "execution_count": null,
   "id": "235ec899-0699-4981-ab92-d4bef1114869",
   "metadata": {},
   "outputs": [],
   "source": [
    "cm2 = confusion_matrix(small_y, y_predict, labels = [0, 1, 2, 3, 4,5,6,7,8,9])\n",
    "cm2"
   ]
  },
  {
   "cell_type": "code",
   "execution_count": null,
   "id": "bea9d3ae-94bb-433d-9f5f-51474bd9ddc2",
   "metadata": {},
   "outputs": [],
   "source": [
    "n_classes = cm1.shape[0]\n",
    "tpr = []\n",
    "fpr = []\n",
    "for i in range(n_classes):\n",
    "    tp = cm1[i, i]\n",
    "    fn = np.sum(cm1[i, :]) - tp\n",
    "    fp = np.sum(cm1[:, i]) - tp\n",
    "    tn = np.sum(cm1) - tp - fn - fp\n",
    "    tpr_i = tp / (tp + fn)\n",
    "    fpr_i = fp / (fp + tn)\n",
    "    tpr.append(tpr_i)\n",
    "    fpr.append(fpr_i)"
   ]
  },
  {
   "cell_type": "code",
   "execution_count": null,
   "id": "21707c5a-a464-4115-a6ea-8aaa3d385b2e",
   "metadata": {},
   "outputs": [],
   "source": [
    "tpr_ave1 = sum(tpr)/len(tpr)\n",
    "tpr_ave1"
   ]
  },
  {
   "cell_type": "code",
   "execution_count": null,
   "id": "fb621c17-ed24-4a39-8e46-006c2170b6c8",
   "metadata": {},
   "outputs": [],
   "source": [
    "# Plot the ROC curve\n",
    "plt.figure(figsize=(6, 6))\n",
    "plt.plot([0, 1], [0, 1], 'k--')\n",
    "plt.plot(fpr, tpr, 'b')\n",
    "plt.xlabel('False Positive Rate')\n",
    "plt.ylabel('True Positive Rate')\n",
    "plt.title('ROC Curve')\n",
    "plt.show()"
   ]
  },
  {
   "cell_type": "code",
   "execution_count": null,
   "id": "cf52f639-b762-4194-8143-af184f9dc1ae",
   "metadata": {},
   "outputs": [],
   "source": [
    "n_classes = cm1.shape[0]\n",
    "tpr = []\n",
    "fpr = []\n",
    "for i in range(n_classes):\n",
    "    tp = cm1[i, i]\n",
    "    fn = np.sum(cm1[i, :]) - tp\n",
    "    fp = np.sum(cm1[:, i]) - tp\n",
    "    tn = np.sum(cm1) - tp - fn - fp\n",
    "    tpr_i = tp / (tp + fn)\n",
    "    fpr_i = fp / (fp + tn)\n",
    "    tpr.append(tpr_i)\n",
    "    fpr.append(fpr_i)"
   ]
  },
  {
   "cell_type": "code",
   "execution_count": null,
   "id": "73c2f05c-4c16-4a68-9471-12b86835341c",
   "metadata": {},
   "outputs": [],
   "source": [
    "tpr_ave2 = sum(tpr)/len(tpr)\n",
    "tpr_ave2"
   ]
  },
  {
   "cell_type": "code",
   "execution_count": null,
   "id": "2dc0eefc-6122-43da-b16f-00ecdac0ab99",
   "metadata": {
    "tags": []
   },
   "outputs": [],
   "source": [
    "# Plot the ROC curve\n",
    "plt.figure(figsize=(6, 6))\n",
    "plt.plot([0, 1], [0, 1], 'k--')\n",
    "plt.plot(fpr, tpr, 'b')\n",
    "plt.xlabel('False Positive Rate')\n",
    "plt.ylabel('True Positive Rate')\n",
    "plt.title('ROC Curve')\n",
    "plt.show()"
   ]
  },
  {
   "cell_type": "code",
   "execution_count": null,
   "id": "8ca0c3bd-7cf0-42a4-9010-f5ada49ee515",
   "metadata": {},
   "outputs": [],
   "source": []
  },
  {
   "cell_type": "code",
   "execution_count": null,
   "id": "c8862ead-dc10-4c95-9945-d8292a826df5",
   "metadata": {},
   "outputs": [],
   "source": []
  },
  {
   "cell_type": "code",
   "execution_count": null,
   "id": "61eecc6d-4d68-4497-abbc-03dbb1ffd114",
   "metadata": {
    "tags": []
   },
   "outputs": [],
   "source": []
  },
  {
   "cell_type": "code",
   "execution_count": null,
   "id": "38905b97-af66-409e-876f-e87e30f40daa",
   "metadata": {},
   "outputs": [],
   "source": []
  },
  {
   "cell_type": "code",
   "execution_count": null,
   "id": "61e91757-7f47-4248-86a0-b257ae42a940",
   "metadata": {},
   "outputs": [],
   "source": []
  }
 ],
 "metadata": {
  "kernelspec": {
   "display_name": "Python 3.8",
   "language": "python",
   "name": "python3"
  },
  "language_info": {
   "codemirror_mode": {
    "name": "ipython",
    "version": 3
   },
   "file_extension": ".py",
   "mimetype": "text/x-python",
   "name": "python",
   "nbconvert_exporter": "python",
   "pygments_lexer": "ipython3",
   "version": "3.8.6"
  }
 },
 "nbformat": 4,
 "nbformat_minor": 5
}
