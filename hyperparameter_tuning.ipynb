{
 "cells": [
  {
   "cell_type": "code",
   "execution_count": null,
   "id": "61a7e643-e21d-4c62-aa12-13e387a931d3",
   "metadata": {},
   "outputs": [],
   "source": [
    "import gzip\n",
    "import numpy as np\n",
    "import matplotlib.pyplot as plt\n",
    "from sklearn.neighbors import KNeighborsClassifier\n",
    "from sklearn.metrics import confusion_matrix, roc_curve, auc, make_scorer, accuracy_score\n",
    "from sklearn.preprocessing import MinMaxScaler\n",
    "from sklearn.model_selection import cross_val_score, KFold, cross_val_predict\n",
    "from sklearn.preprocessing import LabelBinarizer\n",
    "from sklearn.feature_selection import SelectKBest\n",
    "from sklearn.feature_selection import f_classif\n",
    "from sklearn.model_selection import GridSearchCV\n",
    "import pandas as pd"
   ]
  },
  {
   "cell_type": "code",
   "execution_count": null,
   "id": "535cf12d-e023-4d86-bb11-a3ff8f285d21",
   "metadata": {},
   "outputs": [],
   "source": [
    "def load_fashion_mnist():\n",
    "    \"\"\"\n",
    "    Loads Fashion MNIST dataset.\n",
    "    \n",
    "    Adapted from: https://github.com/zalandoresearch/fashion-mnist/blob/master/utils/mnist_reader.py\n",
    "    \"\"\"\n",
    "    TRAIN_IMAGES = 'train-images-idx3-ubyte.gz'\n",
    "    TRAIN_LABELS = 'train-labels-idx1-ubyte.gz'    \n",
    "    TEST_IMAGES = 't10k-images-idx3-ubyte.gz'\n",
    "    TEST_LABELS = 't10k-labels-idx1-ubyte.gz'\n",
    "\n",
    "    with gzip.open(TRAIN_LABELS, 'rb') as tr_labels_file, gzip.open(TEST_LABELS, 'rb') as ts_labels_file:\n",
    "        train_labels = np.frombuffer(tr_labels_file.read(), dtype=np.uint8, offset=8)\n",
    "        test_labels = np.frombuffer(ts_labels_file.read(), dtype=np.uint8, offset=8)\n",
    "\n",
    "    with gzip.open(TRAIN_IMAGES, 'rb') as tr_images_file, gzip.open(TEST_IMAGES, 'rb') as ts_images_file:\n",
    "        train_images = np.frombuffer(tr_images_file.read(), dtype=np.uint8, offset=16).reshape(len(train_labels), 784)\n",
    "        test_images = np.frombuffer(ts_images_file.read(), dtype=np.uint8, offset=16).reshape(len(test_labels), 784)\n",
    "\n",
    "    return train_images, train_labels, test_images, test_labels\n",
    "\n",
    "train_images, train_labels, test_images, test_labels = load_fashion_mnist()"
   ]
  },
  {
   "cell_type": "code",
   "execution_count": null,
   "id": "dcdd555a-322c-437c-8ae0-06889346f746",
   "metadata": {},
   "outputs": [],
   "source": [
    "y = train_labels\n",
    "y.shape"
   ]
  },
  {
   "cell_type": "code",
   "execution_count": null,
   "id": "ef6d4b3d-7f57-435c-9991-f9bdcf8654e4",
   "metadata": {},
   "outputs": [],
   "source": [
    "# rescaling features using min-max scaling\n",
    "scaler = MinMaxScaler()\n",
    "X = scaler.fit_transform(train_images)\n",
    "#train_scaled is X\n",
    "test_scaled = scaler.fit_transform(test_images)\n",
    "X.shape"
   ]
  },
  {
   "cell_type": "code",
   "execution_count": null,
   "id": "a458af21-e8d3-4d80-9749-c228877aec62",
   "metadata": {},
   "outputs": [],
   "source": [
    "small_y = y[:10000]\n",
    "small_X = X[:10000,:]"
   ]
  },
  {
   "cell_type": "code",
   "execution_count": null,
   "id": "b8b8418b-8577-400e-bbd4-a816bd3f4c8a",
   "metadata": {},
   "outputs": [],
   "source": [
    "print(small_X.shape)\n",
    "print(small_y.shape)\n",
    "#small_X and X have the same shape\n",
    "#small_y and y have the same shape"
   ]
  },
  {
   "cell_type": "code",
   "execution_count": null,
   "id": "6de0695e-cd3f-4507-a5f8-91e740bd10f7",
   "metadata": {},
   "outputs": [],
   "source": [
    "# Create a nearest neighbor classifier\n",
    "clf = KNeighborsClassifier(n_neighbors=3, algorithm='kd_tree')\n",
    "clf"
   ]
  },
  {
   "cell_type": "code",
   "execution_count": null,
   "id": "0e227636-166f-4af7-a850-ccee3a68ce5e",
   "metadata": {},
   "outputs": [],
   "source": [
    "y_pred = cross_val_predict(clf, small_X, small_y, cv=5)"
   ]
  },
  {
   "cell_type": "code",
   "execution_count": null,
   "id": "42de0eb6-b413-4a4f-95b6-cd48e33153b0",
   "metadata": {
    "tags": []
   },
   "outputs": [],
   "source": [
    "y_pred"
   ]
  },
  {
   "cell_type": "code",
   "execution_count": null,
   "id": "c2251d97-7372-4440-8eb2-38152387389e",
   "metadata": {},
   "outputs": [],
   "source": [
    "cm1 = confusion_matrix(small_y, y_pred, labels = [0, 1, 2, 3, 4,5,6,7,8,9])\n",
    "cm1"
   ]
  },
  {
   "cell_type": "code",
   "execution_count": null,
   "id": "235ec899-0699-4981-ab92-d4bef1114869",
   "metadata": {},
   "outputs": [],
   "source": [
    "accuracy = accuracy_score(small_y, y_pred)\n",
    "accuracy"
   ]
  },
  {
   "cell_type": "code",
   "execution_count": null,
   "id": "0735a149-487a-4775-958c-6a7d6be3330a",
   "metadata": {},
   "outputs": [],
   "source": [
    "lb = LabelBinarizer()\n",
    "y_binarized = lb.fit_transform(small_y)\n",
    "y_binarized"
   ]
  },
  {
   "cell_type": "code",
   "execution_count": null,
   "id": "61e91757-7f47-4248-86a0-b257ae42a940",
   "metadata": {},
   "outputs": [],
   "source": [
    "# # Selected high corr features to run linear regression\n",
    "# list_features = [X_train['alcohol'],X_train['density']]\n",
    "# X_1 = pd.concat(list_features, axis=1, ignore_index=True)\n",
    "\n",
    "# Defining all parameters for grid search\n",
    "# Note – some are seperated out to decrease running time \n",
    "\n",
    "knn_tuning = KNeighborsClassifier()\n",
    "low_k = range(1, 11, 2)\n",
    "high_k = range(13, 21, 2)\n",
    "test_k = range(15, 17, 2)\n",
    "weights = ['uniform', 'distance']\n",
    "algs = ['auto', 'ball_tree', 'kd_tree', 'brute']\n",
    "alg_auto = ['auto']\n",
    "alg_ball = ['ball_tree']\n",
    "alg_kd = ['kd_tree']\n",
    "alg_brute = ['brute']\n",
    "metrics = ['euclidean', 'manhattan', 'minkowski']\n",
    "metric_euc = ['euclidean']\n",
    "metric_man = ['manhattan']\n",
    "# metric_mink = ['minkowski']\n",
    "\n",
    "# params = dict(n_neighbors=n_neighbors, weights=weights, algorithm=algs, metric=metrics)\n",
    "\n",
    "# # Use SGDRegressor to run linear regression\n",
    "# white_grid = linear_model.SGDRegressor(loss = 'squared_error', fit_intercept = True, learning_rate = 'constant')\n",
    "\n",
    "# Set parameters for grid search\n",
    "# param_grid = {'alpha': [0.000001, 0.00001, 0.0001, 0.001, 0.01, 0.1, 1], 'penalty': ['l1', 'l2'], 'eta0':[0.000001, 0.00001, 0.0001, 0.001, 0.01, 0.1, 1]}\n",
    "\n",
    "# Implement GridSearchCV and fit with all sets of parameters\n",
    "# grid_search_1 = GridSearchCV(white_grid, param_grid, cv=5, scoring = 'neg_mean_squared_error')\n",
    "# grid_search_1.fit(X_1, y_train['quality'])\n",
    "\n",
    "\n",
    "# Find the best parameters\n",
    "# print(grid_search.best_params_)\n",
    "# print(grid_search.best_score_)\n",
    "\n",
    "# Get all scores of grid search\n",
    "# results_1 = pd.DataFrame(grid_search_1.cv_results_)\n",
    "# results = pd.DataFrame(grid_search.cv_results_)\n",
    "\n",
    "# Print the mean squared error of best parameters\n",
    "# mean_test_1 = results_1.index[results_1['params'] == grid_search_1.best_params_].tolist()[0]\n",
    "# score_1 = results_1['mean_test_score']\n",
    "# score_1 = score_1[mean_test_1]\n",
    "# print(score_1)\n",
    "\n",
    "# # Examine if any parameters were not used\n",
    "# print(grid_search_1.best_estimator_.coef_)"
   ]
  },
  {
   "cell_type": "code",
   "execution_count": null,
   "id": "56987d11-f1a6-48d4-98ef-6276f5bd7dc9",
   "metadata": {},
   "outputs": [],
   "source": [
    "# Grid search with a range from 1-11 neighbors, the kd-tree algorithm, and Euclidean distance metric\n",
    "# Takes ~18 minutes to run\n",
    "params_kd_euc = dict(n_neighbors=low_k, weights=weights, algorithm=alg_kd, metric=metric_euc)\n",
    "\n",
    "grid_kd_euc = GridSearchCV(knn_tuning, params_kd_euc, cv=5, scoring='accuracy')\n",
    "grid_kd_euc.fit(small_X, small_y)\n",
    "\n",
    "print(grid_kd_euc.best_params_)\n",
    "print(grid_kd_euc.best_score_)"
   ]
  },
  {
   "cell_type": "code",
   "execution_count": null,
   "id": "6a918a93-a9b2-413a-a80b-98345e6161d6",
   "metadata": {},
   "outputs": [],
   "source": [
    "# # Grid search with a range from 13-21 neighbors, the kd-tree algorithm, and Euclidean distance metric\n",
    "# # have not been able to get this to compute – server times out, at the bottom it says Python 3.8 | Unknown\n",
    "\n",
    "# params_kd_euc = dict(n_neighbors=high_k, weights=weights, algorithm=alg_kd, metric=metric_euc)\n",
    "\n",
    "# grid_kd_euc = GridSearchCV(knn_tuning, params_kd_euc, cv=5, scoring='accuracy')\n",
    "# grid_kd_euc.fit(small_X, small_y)\n",
    "\n",
    "# print(grid_kd_euc.best_params_)\n",
    "# print(grid_kd_euc.best_score_)"
   ]
  },
  {
   "cell_type": "code",
   "execution_count": null,
   "id": "30eded04-1390-40c8-9c66-f5e7dc7ccd7f",
   "metadata": {},
   "outputs": [],
   "source": [
    "# Grid search with a range from 1-11 neighbors, the kd-tree algorithm, and Manhattan distance metric\n",
    "# Takes ~18 minutes to run\n",
    "params_kd_man = dict(n_neighbors=low_k, weights=weights, algorithm=alg_kd, metric=metric_man)\n",
    "\n",
    "grid_kd_man = GridSearchCV(knn_tuning, params_kd_man, cv=5, scoring='accuracy')\n",
    "grid_kd_man.fit(small_X, small_y)\n",
    "\n",
    "print(grid_kd_man.best_params_)\n",
    "print(grid_kd_man.best_score_)"
   ]
  },
  {
   "cell_type": "code",
   "execution_count": null,
   "id": "3c309664-3828-4976-8538-8503182cebcc",
   "metadata": {},
   "outputs": [],
   "source": [
    "# # Grid search with a range from 13-21 neighbors, the kd-tree algorithm, and Manhattan distance metric\n",
    "# params_kd_man = dict(n_neighbors=high_k, weights=weights, algorithm=alg_kd, metric=metric_man)\n",
    "\n",
    "# grid_kd_man = GridSearchCV(knn_tuning, params_kd_man, cv=5, scoring='accuracy')\n",
    "# grid_kd_man.fit(small_X, small_y)\n",
    "\n",
    "# print(grid_kd_man.best_params_)\n",
    "# print(grid_kd_man.best_score_)"
   ]
  },
  {
   "cell_type": "code",
   "execution_count": null,
   "id": "13422908-f1eb-44ed-a740-912c6c04a734",
   "metadata": {},
   "outputs": [],
   "source": [
    "# Grid search with a range from 1-11 neighbors, the auto algorithm, and Euclidean distance metric\n",
    "# Takes ~2 minutes\n",
    "params_auto_euc = dict(n_neighbors=low_k, weights=weights, algorithm=alg_auto, metric=metric_euc)\n",
    "\n",
    "grid_auto_euc = GridSearchCV(knn_tuning, params_auto_euc, cv=5, scoring='accuracy')\n",
    "grid_auto_euc.fit(small_X, small_y)\n",
    "\n",
    "print(grid_auto_euc.best_params_)\n",
    "print(grid_auto_euc.best_score_)"
   ]
  },
  {
   "cell_type": "code",
   "execution_count": null,
   "id": "efbf2d55-3364-42ea-9356-02f15cf76944",
   "metadata": {},
   "outputs": [],
   "source": [
    "# Grid search with a range from 1-11 neighbors, the auto algorithm, and Manhattan distance metric\n",
    "# Takes ~2 minutes\n",
    "params_auto_man = dict(n_neighbors=low_k, weights=weights, algorithm=alg_auto, metric=metric_man)\n",
    "\n",
    "grid_auto_man = GridSearchCV(knn_tuning, params_auto_man, cv=5, scoring='accuracy')\n",
    "grid_auto_man.fit(small_X, small_y)\n",
    "\n",
    "print(grid_auto_man.best_params_)\n",
    "print(grid_auto_man.best_score_)"
   ]
  },
  {
   "cell_type": "code",
   "execution_count": null,
   "id": "318663ec-611c-4361-9bce-3dcc26f31f8c",
   "metadata": {},
   "outputs": [],
   "source": [
    "# Grid search with a range from 1-11 neighbors, the brute force algorithm, and Euclidean distance metric\n",
    "# Took ~30 seconds\n",
    "params_brute_euc = dict(n_neighbors=low_k, weights=weights, algorithm=alg_brute, metric=metric_euc)\n",
    "\n",
    "grid_brute_euc = GridSearchCV(knn_tuning, params_brute_euc, cv=5, scoring='accuracy')\n",
    "grid_brute_euc.fit(small_X, small_y)\n",
    "\n",
    "print(grid_brute_euc.best_params_)\n",
    "print(grid_brute_euc.best_score_)"
   ]
  },
  {
   "cell_type": "code",
   "execution_count": null,
   "id": "585dde78-5990-4ae0-a3a4-b8bc277472f7",
   "metadata": {},
   "outputs": [],
   "source": [
    "# Grid search with a range from 1-11 neighbors, the brute force algorithm, and Manhattan distance metric\n",
    "# Took about ~3 minutes\n",
    "params_brute_man = dict(n_neighbors=low_k, weights=weights, algorithm=alg_brute, metric=metric_man)\n",
    "\n",
    "grid_brute_man = GridSearchCV(knn_tuning, params_brute_man, cv=5, scoring='accuracy')\n",
    "grid_brute_man.fit(small_X, small_y)\n",
    "\n",
    "print(grid_brute_man.best_params_)\n",
    "print(grid_brute_man.best_score_)"
   ]
  },
  {
   "cell_type": "code",
   "execution_count": null,
   "id": "20e0bf5a-f391-45e1-ba6a-e0d719581951",
   "metadata": {},
   "outputs": [],
   "source": [
    "# Grid search with a range from 1-11 neighbors, the ball tree algorithm, and Euclidean distance metric\n",
    "# Took about ~14 minutes\n",
    "params_ball_euc = dict(n_neighbors=low_k, weights=weights, algorithm=alg_ball, metric=metric_euc)\n",
    "\n",
    "grid_ball_euc = GridSearchCV(knn_tuning, params_ball_euc, cv=5, scoring='accuracy')\n",
    "grid_ball_euc.fit(small_X, small_y)\n",
    "\n",
    "print(grid_ball_euc.best_params_)\n",
    "print(grid_ball_euc.best_score_)"
   ]
  },
  {
   "cell_type": "code",
   "execution_count": null,
   "id": "90e6ed1a-466a-4ca5-a746-5e7d94927388",
   "metadata": {},
   "outputs": [],
   "source": [
    "# Grid search with a range from 1-11 neighbors, the ball tree algorithm, and Manhattan distance metric\n",
    "# Took about ~13 minutes\n",
    "params_ball_man = dict(n_neighbors=low_k, weights=weights, algorithm=alg_ball, metric=metric_man)\n",
    "\n",
    "grid_ball_man = GridSearchCV(knn_tuning, params_ball_man, cv=5, scoring='accuracy')\n",
    "grid_ball_man.fit(small_X, small_y)\n",
    "\n",
    "print(grid_ball_man.best_params_)\n",
    "print(grid_ball_man.best_score_)"
   ]
  },
  {
   "cell_type": "code",
   "execution_count": null,
   "id": "3c20344f-ca9b-4467-bf48-7235cc402ec6",
   "metadata": {},
   "outputs": [],
   "source": []
  }
 ],
 "metadata": {
  "kernelspec": {
   "display_name": "Python 3.8",
   "language": "python",
   "name": "python3"
  },
  "language_info": {
   "codemirror_mode": {
    "name": "ipython",
    "version": 3
   },
   "file_extension": ".py",
   "mimetype": "text/x-python",
   "name": "python",
   "nbconvert_exporter": "python",
   "pygments_lexer": "ipython3",
   "version": "3.8.6"
  }
 },
 "nbformat": 4,
 "nbformat_minor": 5
}
