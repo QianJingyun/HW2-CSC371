{
 "cells": [
  {
   "cell_type": "code",
   "execution_count": null,
   "id": "61a7e643-e21d-4c62-aa12-13e387a931d3",
   "metadata": {},
   "outputs": [],
   "source": [
    "import gzip\n",
    "import numpy as np\n",
    "import matplotlib.pyplot as plt\n",
    "from sklearn.linear_model import LogisticRegression\n",
    "from sklearn.metrics import confusion_matrix, roc_curve, auc, make_scorer, accuracy_score\n",
    "from sklearn.preprocessing import MinMaxScaler\n",
    "from sklearn.model_selection import cross_val_score, KFold, cross_val_predict\n",
    "from sklearn.preprocessing import LabelBinarizer\n",
    "from sklearn.feature_selection import SelectKBest\n",
    "from sklearn.feature_selection import f_classif\n",
    "from sklearn.model_selection import GridSearchCV\n",
    "import pandas as pd\n",
    "import time"
   ]
  },
  {
   "cell_type": "code",
   "execution_count": null,
   "id": "535cf12d-e023-4d86-bb11-a3ff8f285d21",
   "metadata": {},
   "outputs": [],
   "source": [
    "def load_fashion_mnist():\n",
    "    \"\"\"\n",
    "    Loads Fashion MNIST dataset.\n",
    "    \n",
    "    Adapted from: https://github.com/zalandoresearch/fashion-mnist/blob/master/utils/mnist_reader.py\n",
    "    \"\"\"\n",
    "    TRAIN_IMAGES = 'train-images-idx3-ubyte.gz'\n",
    "    TRAIN_LABELS = 'train-labels-idx1-ubyte.gz'    \n",
    "    TEST_IMAGES = 't10k-images-idx3-ubyte.gz'\n",
    "    TEST_LABELS = 't10k-labels-idx1-ubyte.gz'\n",
    "\n",
    "    with gzip.open(TRAIN_LABELS, 'rb') as tr_labels_file, gzip.open(TEST_LABELS, 'rb') as ts_labels_file:\n",
    "        train_labels = np.frombuffer(tr_labels_file.read(), dtype=np.uint8, offset=8)\n",
    "        test_labels = np.frombuffer(ts_labels_file.read(), dtype=np.uint8, offset=8)\n",
    "\n",
    "    with gzip.open(TRAIN_IMAGES, 'rb') as tr_images_file, gzip.open(TEST_IMAGES, 'rb') as ts_images_file:\n",
    "        train_images = np.frombuffer(tr_images_file.read(), dtype=np.uint8, offset=16).reshape(len(train_labels), 784)\n",
    "        test_images = np.frombuffer(ts_images_file.read(), dtype=np.uint8, offset=16).reshape(len(test_labels), 784)\n",
    "\n",
    "    return train_images, train_labels, test_images, test_labels\n",
    "\n",
    "train_images, train_labels, test_images, test_labels = load_fashion_mnist()"
   ]
  },
  {
   "cell_type": "code",
   "execution_count": null,
   "id": "dcdd555a-322c-437c-8ae0-06889346f746",
   "metadata": {},
   "outputs": [],
   "source": [
    "y = train_labels\n",
    "y.shape"
   ]
  },
  {
   "cell_type": "code",
   "execution_count": null,
   "id": "ef6d4b3d-7f57-435c-9991-f9bdcf8654e4",
   "metadata": {},
   "outputs": [],
   "source": [
    "# rescaling features using min-max scaling\n",
    "scaler = MinMaxScaler()\n",
    "X = scaler.fit_transform(train_images)\n",
    "#train_scaled is X\n",
    "test_scaled = scaler.fit_transform(test_images)\n",
    "X.shape"
   ]
  },
  {
   "cell_type": "code",
   "execution_count": null,
   "id": "a458af21-e8d3-4d80-9749-c228877aec62",
   "metadata": {},
   "outputs": [],
   "source": [
    "small_y = y[:10000]\n",
    "small_X = X[:10000,:]"
   ]
  },
  {
   "cell_type": "code",
   "execution_count": null,
   "id": "b8b8418b-8577-400e-bbd4-a816bd3f4c8a",
   "metadata": {},
   "outputs": [],
   "source": [
    "print(small_X.shape)\n",
    "print(small_y.shape)\n",
    "#small_X and X have the same shape\n",
    "#small_y and y have the same shape"
   ]
  },
  {
   "cell_type": "code",
   "execution_count": null,
   "id": "0735a149-487a-4775-958c-6a7d6be3330a",
   "metadata": {},
   "outputs": [],
   "source": [
    "lb = LabelBinarizer()\n",
    "y_binarized = lb.fit_transform(small_y)\n",
    "y_binarized"
   ]
  },
  {
   "cell_type": "code",
   "execution_count": null,
   "id": "61e91757-7f47-4248-86a0-b257ae42a940",
   "metadata": {},
   "outputs": [],
   "source": [
    "logistic = LogisticRegression(max_iter=10000)"
   ]
  },
  {
   "cell_type": "code",
   "execution_count": null,
   "id": "c431c34f-bdb5-4d5f-bc3c-9d018a1d91fe",
   "metadata": {},
   "outputs": [],
   "source": [
    "start_time = time.time()\n",
    "y_pred_log_base = cross_val_predict(logistic, small_X, small_y, cv=5)\n",
    "accuracy_log_base = accuracy_score(small_y, y_pred_log_base)\n",
    "print(time.time() - start_time)\n",
    "print(accuracy_log_base)"
   ]
  },
  {
   "cell_type": "code",
   "execution_count": null,
   "id": "7bf9ff03-4c47-43f2-ac81-a06567313d9a",
   "metadata": {},
   "outputs": [],
   "source": [
    "params_1 = {'C':[0.1], 'penalty': ['l1', 'l2']}\n",
    "\n",
    "grid_logistic_1 = GridSearchCV(logistic, params_1, cv=5, scoring = 'accuracy')\n",
    "grid_logistic_1.fit(small_X, small_y)\n",
    "\n",
    "print(grid_logistic_1.best_params_)\n",
    "print(grid_logistic_1.best_score_)"
   ]
  },
  {
   "cell_type": "code",
   "execution_count": null,
   "id": "d11f8953-1308-4113-b445-cb0b7b9c3ae8",
   "metadata": {},
   "outputs": [],
   "source": [
    "params_2 = {'C':[1], 'penalty': ['l1', 'l2']}\n",
    "\n",
    "grid_logistic_2 = GridSearchCV(logistic, params_2, cv=5, scoring = 'accuracy')\n",
    "grid_logistic_2.fit(small_X, small_y)\n",
    "\n",
    "print(grid_logistic_2.best_params_)\n",
    "print(grid_logistic_2.best_score_)"
   ]
  },
  {
   "cell_type": "code",
   "execution_count": null,
   "id": "179a34a7-0ff8-415e-9270-add19247f454",
   "metadata": {},
   "outputs": [],
   "source": [
    "params_3 = {'C':[10], 'penalty': ['l1', 'l2']}\n",
    "\n",
    "grid_logistic_3 = GridSearchCV(logistic, params_3, cv=5, scoring = 'accuracy')\n",
    "grid_logistic_3.fit(small_X, small_y)\n",
    "\n",
    "print(grid_logistic_3.best_params_)\n",
    "print(grid_logistic_3.best_score_)"
   ]
  },
  {
   "cell_type": "code",
   "execution_count": null,
   "id": "226e794f-6a80-4638-9339-171917b24e96",
   "metadata": {},
   "outputs": [],
   "source": [
    "params_4 = {'C':[100], 'penalty': ['l1', 'l2']}\n",
    "\n",
    "grid_logistic_4 = GridSearchCV(logistic, params_4, cv=5, scoring = 'accuracy')\n",
    "grid_logistic_4.fit(small_X, small_y)\n",
    "\n",
    "print(grid_logistic_4.best_params_)\n",
    "print(grid_logistic_4.best_score_)"
   ]
  },
  {
   "cell_type": "code",
   "execution_count": null,
   "id": "50a34bc2-4e62-4e24-a2c4-b86a5d165954",
   "metadata": {},
   "outputs": [],
   "source": [
    "# Determining run time using the optimal combination of hyperparameter values\n",
    "\n",
    "best_log = LogisticRegression(C=0.1, max_iter=10000)\n",
    "\n",
    "start_time = time.time()\n",
    "y_pred_best_log = cross_val_predict(best_log, small_X, small_y, cv=5)\n",
    "accuracy_best_log = accuracy_score(small_y, y_pred_best_log)\n",
    "print(time.time() - start_time)\n",
    "print(accuracy_best_log)"
   ]
  },
  {
   "cell_type": "code",
   "execution_count": null,
   "id": "720d691f-3489-4b8a-9904-e9b5b75056fe",
   "metadata": {},
   "outputs": [],
   "source": []
  }
 ],
 "metadata": {
  "kernelspec": {
   "display_name": "Python 3.8",
   "language": "python",
   "name": "python3"
  },
  "language_info": {
   "codemirror_mode": {
    "name": "ipython",
    "version": 3
   },
   "file_extension": ".py",
   "mimetype": "text/x-python",
   "name": "python",
   "nbconvert_exporter": "python",
   "pygments_lexer": "ipython3",
   "version": "3.8.6"
  }
 },
 "nbformat": 4,
 "nbformat_minor": 5
}
