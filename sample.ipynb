{
 "cells": [
  {
   "cell_type": "code",
   "execution_count": 1,
   "id": "loose-singapore",
   "metadata": {},
   "outputs": [],
   "source": [
    "import gzip\n",
    "import numpy as np\n",
    "import matplotlib.pyplot as plt\n",
    "\n",
    "\n",
    "def load_fashion_mnist():\n",
    "    \"\"\"\n",
    "    Loads Fashion MNIST dataset.\n",
    "    \n",
    "    Adapted from: https://github.com/zalandoresearch/fashion-mnist/blob/master/utils/mnist_reader.py\n",
    "    \"\"\"\n",
    "    TRAIN_IMAGES = 'train-images-idx3-ubyte.gz'\n",
    "    TRAIN_LABELS = 'train-labels-idx1-ubyte.gz'    \n",
    "    TEST_IMAGES = 't10k-images-idx3-ubyte.gz'\n",
    "    TEST_LABELS = 't10k-labels-idx1-ubyte.gz'\n",
    "\n",
    "    with gzip.open(TRAIN_LABELS, 'rb') as tr_labels_file, gzip.open(TEST_LABELS, 'rb') as ts_labels_file:\n",
    "        train_labels = np.frombuffer(tr_labels_file.read(), dtype=np.uint8, offset=8)\n",
    "        test_labels = np.frombuffer(ts_labels_file.read(), dtype=np.uint8, offset=8)\n",
    "\n",
    "    with gzip.open(TRAIN_IMAGES, 'rb') as tr_images_file, gzip.open(TEST_IMAGES, 'rb') as ts_images_file:\n",
    "        train_images = np.frombuffer(tr_images_file.read(), dtype=np.uint8, offset=16).reshape(len(train_labels), 784)\n",
    "        test_images = np.frombuffer(ts_images_file.read(), dtype=np.uint8, offset=16).reshape(len(test_labels), 784)\n",
    "\n",
    "    return train_images, train_labels, test_images, test_labels"
   ]
  },
  {
   "cell_type": "code",
   "execution_count": 2,
   "id": "civilian-shift",
   "metadata": {},
   "outputs": [],
   "source": [
    "def pretty_print(image_example):\n",
    "    \"\"\" Pretty prints a Fashion MNIST example.\n",
    "\n",
    "    Parameters:\n",
    "        image_example: a 1x784 numpy array corresponding to the features of\n",
    "                       a single image.\n",
    "\n",
    "    Returns:\n",
    "        None.\n",
    "    \"\"\"\n",
    "    print(np.array_str(image_example, precision=1, max_line_width=116))\n"
   ]
  },
  {
   "cell_type": "code",
   "execution_count": 3,
   "id": "valuable-university",
   "metadata": {},
   "outputs": [],
   "source": [
    "def usage_example():\n",
    "    \"\"\" Example of how to load and parse Fashion MNIST data. \"\"\"\n",
    "    \n",
    "    train_images, train_labels, test_images, test_labels = load_fashion_mnist()\n",
    "\n",
    "    # train_images is a 60,000 x 784 numpy matrix. There are 60k\n",
    "    # rows in the matrix, each row corresponding to a single example.\n",
    "    # There are 784 columns, each corresponding to the value of a\n",
    "    # single pixel in the 28x28 image after it has been \"flattened\".\n",
    "    print(\"Dimensions of training set feature matrix:\", train_images.shape)\n",
    "\n",
    "    # The labels for each example are maintained separately in train_labels.\n",
    "    # This is a 60,000 x 1 numpy matrix, where each element is the label\n",
    "    # for the corresponding training example.\n",
    "    print(\"Dimensions of training set label matrix:\", train_labels.shape)\n",
    "\n",
    "    # Example of how to access a individual training example (in this case,\n",
    "    # we pick an example at a random index). We could use print to output the\n",
    "    # raw pixel values to the screen, but pretty_print formats the data in \n",
    "    # a nicer way: if you squint, you may be able to make out the contours of\n",
    "    # the fashion article in the matrix data.\n",
    "    EXAMPLE_INDEX = np.random.randint(60000)\n",
    "    print(\"Features of training example at index {}:\\n\".format(EXAMPLE_INDEX))\n",
    "    pretty_print(train_images[EXAMPLE_INDEX])\n",
    "\n",
    "    # And here's the label that goes with that training example\n",
    "    print(\"\\nLabel of training example at index {}:\".format(EXAMPLE_INDEX), train_labels[EXAMPLE_INDEX], '\\n')\n",
    "\n",
    "    # Finally, let's visualize the example we've picked as a 28x28 image\n",
    "    plt.figure()\n",
    "    plt.imshow(train_images[EXAMPLE_INDEX].reshape(28, 28))\n",
    "    plt.show()\n",
    "    \n",
    "    # The test_images/test_labels are organized in the same way, but only contain 10k\n",
    "    # examples. Don't touch this data until your model is frozen! Perform all\n",
    "    # cross-validation, model selection, hyperparameter tuning etc. on the 60k\n",
    "    # training set. Use the test set simply for reporting performance.\n"
   ]
  },
  {
   "cell_type": "code",
   "execution_count": 4,
   "id": "international-lemon",
   "metadata": {},
   "outputs": [
    {
     "name": "stdout",
     "output_type": "stream",
     "text": [
      "Dimensions of training set feature matrix: (60000, 784)\n",
      "Dimensions of training set label matrix: (60000,)\n",
      "Features of training example at index 24704:\n",
      "\n",
      "[  0   0   0   0   0   0   0   0   0   0 133 211 201 168 198 213 175 160 178   1   0   0   0   0   0   0   0   0\n",
      "   0   0   0   0   0   0   0   0   0   0 170 186 196 172 206 238 188 141  62  13   0   0   0   0   0   0   0   0\n",
      "   0   0   0   0   0   0   0   0   0  53 220 188 203 211 226 208 185 197 129  37   0   0   0   0   0   0   0   0\n",
      "   0   0   0   0   0   0   0   0   0 117 225 190 192 196 210 195 185 183 197 134   0   0   0   0   0   0   0   0\n",
      "   0   0   0   0   0   0   0   0   0 142 174 164 186 199 196 195 183 143 144 113   0   0   0   0   0   0   0   0\n",
      "   0   0   0   0   0   0   0   0   0 139  92  76 162 195 220 205 156  50  67 126   0   0   0   0   0   0   0   0\n",
      "   0   0   0   0   0   0   0   0   0 137  39   6 134 174 214 202  82   2  25 133   0   0   0   0   0   0   0   0\n",
      "   0   0   0   0   0   0   0   0   0 125  44   4 110 199 207 206  65  13  33 129   0   0   0   0   0   0   0   0\n",
      "   0   0   0   0   0   0   0   0   0 143  67  24 138 194 179 194  83  19  62 135   0   0   0   0   0   0   0   0\n",
      "   0   0   0   0   0   0   0   0   0 134  92  37 129 196  78 208  99  37  93 114   0   0   0   0   0   0   0   0\n",
      "   0   0   0   0   0   0   0   0   0 115 119  46 126 169  15 255 102  57 106  92   0   0   0   0   0   0   0   0\n",
      "   0   0   0   0   0   0   0   0   0  95 128  38 125 142   0 255 101  40 110  56   0   0   0   0   0   0   0   0\n",
      "   0   0   0   0   0   0   0   0   0  64 150  38 135  98   0 238 116  43 111  17   0   0   0   0   0   0   0   0\n",
      "   0   0   0   0   0   0   0   0   0  20 143  33 142  99   0 210 130  43 103   4   0   0   0   0   0   0   0   0\n",
      "   0   0   0   0   0   0   0   0   0  10 146  29 122  94   0 201 120  28  82   0   0   0   0   0   0   0   0   0\n",
      "   0   0   0   0   0   0   0   0   0  17 171  35 126  97   0 189 119  26  94   0   0   0   0   0   0   0   0   0\n",
      "   0   0   0   0   0   0   0   0   0  17 175  43 131  67   0 148 137  33  84   0   0   0   0   0   0   0   0   0\n",
      "   0   0   0   0   0   0   0   0   0  16 161  56 142  28   0 111 160  44  97   0   0   0   0   0   0   0   0   0\n",
      "   0   0   0   0   0   0   0   0   0  29 156  50 144  21   0  78 180  88  89   2   0   0   0   0   0   0   0   0\n",
      "   0   0   0   0   0   0   0   0   0  28 171  56 139  19   0  50 194 103  88   6   0   0   0   0   0   0   0   0\n",
      "   0   0   0   0   0   0   0   0   0  16 188  88 139  26   0  28 198 125  98   0   0   0   0   0   0   0   0   0\n",
      "   0   0   0   0   0   0   0   0   0   7 158 102 139  22   0  14 194 125 101   0   0   0   0   0   0   0   0   0\n",
      "   0   0   0   0   0   0   0   0   0   0 167 108 106   4   0   6 196 126  96   0   0   0   0   0   0   0   0   0\n",
      "   0   0   0   0   0   0   0   0   0   0 164 116 128   0   0   0 186 132 108   0   0   0   0   0   0   0   0   0\n",
      "   0   0   0   0   0   0   0   0   0   0 153 103 137   0   0   0 180 129 108   0   0   0   0   0   0   0   0   0\n",
      "   0   0   0   0   0   0   0   0   0   0 161 130  95   0   0   0 177 157  88   0   0   0   0   0   0   0   0   0\n",
      "   0   0   0   0   0   0   0   0   0   0 150 176  98   0   0   0 153 162 104   0   0   0   0   0   0   0   0   0\n",
      "   0   0   0   0   0   0   0   0   0   0 125 181  93   0   0   0 128 172  93   0   0   0   0   0   0   0   0   0]\n",
      "\n",
      "Label of training example at index 24704: 1 \n",
      "\n"
     ]
    },
    {
     "data": {
      "image/png": "[encoded data removed]",
      "text/plain": [
       "<Figure size 432x288 with 1 Axes>"
      ]
     },
     "metadata": {
      "needs_background": "light"
     },
     "output_type": "display_data"
    }
   ],
   "source": [
    "usage_example()"
   ]
  },
  {
   "cell_type": "code",
   "execution_count": null,
   "id": "13ae0157-94d9-4abe-b1e7-ca486d3b93db",
   "metadata": {},
   "outputs": [],
   "source": []
  }
 ],
 "metadata": {
  "kernelspec": {
   "display_name": "Python 3.8",
   "language": "python",
   "name": "python3"
  },
  "language_info": {
   "codemirror_mode": {
    "name": "ipython",
    "version": 3
   },
   "file_extension": ".py",
   "mimetype": "text/x-python",
   "name": "python",
   "nbconvert_exporter": "python",
   "pygments_lexer": "ipython3",
   "version": "3.8.6"
  }
 },
 "nbformat": 4,
 "nbformat_minor": 5
}
